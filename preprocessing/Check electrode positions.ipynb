{
 "cells": [
  {
   "cell_type": "code",
   "execution_count": 27,
   "id": "99f31fa2",
   "metadata": {},
   "outputs": [],
   "source": [
    "import numpy as np\n",
    "import os.path as op\n",
    "\n",
    "# EEG utilities\n",
    "import mne\n",
    "\n",
    "# BIDS utilities\n",
    "from mne_bids import BIDSPath, read_raw_bids\n",
    "\n",
    "import pandas as pd"
   ]
  },
  {
   "cell_type": "code",
   "execution_count": 5,
   "id": "0283b16c",
   "metadata": {},
   "outputs": [],
   "source": [
    "# Constants\n",
    "# BIDS_ROOT = '/Users/nusbaumlab/src/pitch_tracking/data/bids'\n",
    "# DERIV_ROOT = op.join(BIDS_ROOT, 'derivatives')"
   ]
  },
  {
   "cell_type": "code",
   "execution_count": 53,
   "id": "53d4b044",
   "metadata": {},
   "outputs": [
    {
     "name": "stdout",
     "output_type": "stream",
     "text": [
      "Extracting parameters from ../data/raw/letty_subj_6.vhdr...\n",
      "Setting channel info structure...\n",
      "Reading 0 ... 9212749  =      0.000 ...  1842.550 secs...\n"
     ]
    },
    {
     "name": "stderr",
     "output_type": "stream",
     "text": [
      "/var/folders/hv/vj9_d69170l26hyj9hqqj45h0000gn/T/ipykernel_74503/888971310.py:4: RuntimeWarning: The unit for channel(s) Aux1 has changed from V to NA.\n",
      "  raw.set_channel_types({'Aux1': 'stim'})\n"
     ]
    },
    {
     "data": {
      "text/plain": [
       "['Ch1',\n",
       " 'Ch2',\n",
       " 'Ch3',\n",
       " 'Ch4',\n",
       " 'Ch5',\n",
       " 'Ch6',\n",
       " 'Ch7',\n",
       " 'Ch8',\n",
       " 'Ch9',\n",
       " 'Ch10',\n",
       " 'Ch11',\n",
       " 'Ch12',\n",
       " 'Ch13',\n",
       " 'Ch14',\n",
       " 'Ch15',\n",
       " 'Ch16',\n",
       " 'Ch17',\n",
       " 'Ch18',\n",
       " 'Ch19',\n",
       " 'Ch20',\n",
       " 'Ch21',\n",
       " 'Ch22',\n",
       " 'Ch23',\n",
       " 'Ch25',\n",
       " 'Ch26',\n",
       " 'Ch27',\n",
       " 'Ch28',\n",
       " 'Ch29',\n",
       " 'Ch30',\n",
       " 'Ch31',\n",
       " 'Ch32',\n",
       " 'Ch33',\n",
       " 'Ch34',\n",
       " 'Ch35',\n",
       " 'Ch36',\n",
       " 'Ch37',\n",
       " 'Ch38',\n",
       " 'Ch39',\n",
       " 'Ch40',\n",
       " 'Ch41',\n",
       " 'Ch42',\n",
       " 'Ch43',\n",
       " 'Ch44',\n",
       " 'Ch45',\n",
       " 'Ch46',\n",
       " 'Ch47',\n",
       " 'Ch48',\n",
       " 'Ch49',\n",
       " 'Ch50',\n",
       " 'Ch51',\n",
       " 'Ch52',\n",
       " 'Ch53',\n",
       " 'Ch54',\n",
       " 'Ch55',\n",
       " 'Ch56',\n",
       " 'Ch57',\n",
       " 'Ch58',\n",
       " 'Ch59',\n",
       " 'Ch60',\n",
       " 'Ch61',\n",
       " 'Ch62',\n",
       " 'Ch63',\n",
       " 'Ch64',\n",
       " 'Aux1']"
      ]
     },
     "execution_count": 53,
     "metadata": {},
     "output_type": "execute_result"
    }
   ],
   "source": [
    "fpath = '../data/raw/letty_subj_6.vhdr'\n",
    "raw = mne.io.read_raw_brainvision(fpath)\n",
    "raw.load_data()\n",
    "raw.set_channel_types({'Aux1': 'stim'})\n",
    "# raw.add_reference_channels(ref_channels = 'Ch24')\n",
    "raw.ch_names\n",
    "# len(raw.ch_names)\n",
    "# dig = mne.channels.make_standard_montage('standard_1020')\n",
    "# mapping = {'Ch%s'%i: dig.ch_names[i] for i in range(len(dig.ch_names))}\n",
    "# mapping"
   ]
  },
  {
   "cell_type": "code",
   "execution_count": 54,
   "id": "42afbe00",
   "metadata": {},
   "outputs": [
    {
     "data": {
      "text/plain": [
       "{'Ch1': 'Fp1',\n",
       " 'Ch2': 'Fz',\n",
       " 'Ch3': 'F3',\n",
       " 'Ch4': 'F7',\n",
       " 'Ch5': 'FT9',\n",
       " 'Ch6': 'FC5',\n",
       " 'Ch7': 'FC1',\n",
       " 'Ch8': 'C3',\n",
       " 'Ch9': 'T7',\n",
       " 'Ch10': 'TP9',\n",
       " 'Ch11': 'CP5',\n",
       " 'Ch12': 'CP1',\n",
       " 'Ch13': 'Pz',\n",
       " 'Ch14': 'P3',\n",
       " 'Ch15': 'P7',\n",
       " 'Ch16': 'O1',\n",
       " 'Ch17': 'Oz',\n",
       " 'Ch18': 'O2',\n",
       " 'Ch19': 'P4',\n",
       " 'Ch20': 'P8',\n",
       " 'Ch21': 'TP10',\n",
       " 'Ch22': 'CP6',\n",
       " 'Ch23': 'CP2',\n",
       " 'Ch25': 'C4',\n",
       " 'Ch26': 'T8',\n",
       " 'Ch27': 'FT10',\n",
       " 'Ch28': 'FC6',\n",
       " 'Ch29': 'FC2',\n",
       " 'Ch30': 'F4',\n",
       " 'Ch31': 'F8',\n",
       " 'Ch32': 'Fp2',\n",
       " 'Ch33': 'AF7',\n",
       " 'Ch34': 'AF3',\n",
       " 'Ch35': 'AFz',\n",
       " 'Ch36': 'F1',\n",
       " 'Ch37': 'F5',\n",
       " 'Ch38': 'FT7',\n",
       " 'Ch39': 'FC3',\n",
       " 'Ch40': 'C1',\n",
       " 'Ch41': 'C5',\n",
       " 'Ch42': 'TP7',\n",
       " 'Ch43': 'CP3',\n",
       " 'Ch44': 'P1',\n",
       " 'Ch45': 'P5',\n",
       " 'Ch46': 'PO7',\n",
       " 'Ch47': 'PO3',\n",
       " 'Ch48': 'POz',\n",
       " 'Ch49': 'PO4',\n",
       " 'Ch50': 'PO8',\n",
       " 'Ch51': 'P6',\n",
       " 'Ch52': 'P2',\n",
       " 'Ch53': 'CPz',\n",
       " 'Ch54': 'CP4',\n",
       " 'Ch55': 'TP8',\n",
       " 'Ch56': 'C6',\n",
       " 'Ch57': 'C2',\n",
       " 'Ch58': 'FC4',\n",
       " 'Ch59': 'FT8',\n",
       " 'Ch60': 'F6',\n",
       " 'Ch61': 'AF8',\n",
       " 'Ch62': 'AF4',\n",
       " 'Ch63': 'F2',\n",
       " 'Ch64': 'Iz'}"
      ]
     },
     "execution_count": 54,
     "metadata": {},
     "output_type": "execute_result"
    }
   ],
   "source": [
    "mapping = pd.read_csv('../data/captrak/pitch_tracking_NO_REF.csv')\n",
    "mapping_dict = {'Ch' + str(mapping.number[i]): mapping.name[i] for i in range(len(mapping))}\n",
    "del mapping_dict['Ch24']\n",
    "mapping_dict"
   ]
  },
  {
   "cell_type": "code",
   "execution_count": 55,
   "id": "80805d7d",
   "metadata": {},
   "outputs": [
    {
     "name": "stdout",
     "output_type": "stream",
     "text": [
      "Location for this channel is unknown; consider calling set_montage() again if needed.\n"
     ]
    },
    {
     "data": {
      "text/html": [
       "\n",
       "\n",
       "<table class=\"table table-hover table-striped table-sm table-responsive small\">\n",
       "    <tr>\n",
       "        <th>Measurement date</th>\n",
       "        <td>March 07, 2022  15:37:22 GMT</td>\n",
       "        \n",
       "    </tr>\n",
       "    <tr>\n",
       "        <th>Experimenter</th>\n",
       "<td>Unknown</td>\n",
       "    </tr>\n",
       "        <th>Participant</th>\n",
       "<td>Unknown</td>\n",
       "    </tr>\n",
       "    <tr>\n",
       "        <th>Digitized points</th>\n",
       "        <td>Not available</td>\n",
       "    </tr>\n",
       "    <tr>\n",
       "        <th>Good channels</th>\n",
       "        <td>64 EEG, 1 Stimulus</td>\n",
       "    </tr>\n",
       "    <tr>\n",
       "        <th>Bad channels</th>\n",
       "        <td>None</td>\n",
       "    </tr>\n",
       "    <tr>\n",
       "        <th>EOG channels</th>\n",
       "        <td>Not available</td>\n",
       "    </tr>\n",
       "    <tr>\n",
       "        <th>ECG channels</th>\n",
       "        <td>Not available</td>\n",
       "    <tr>\n",
       "        <th>Sampling frequency</th>\n",
       "        <td>5000.00 Hz</td>\n",
       "    </tr>\n",
       "    <tr>\n",
       "        <th>Highpass</th>\n",
       "        <td>0.00 Hz</td>\n",
       "    </tr>\n",
       "    <tr>\n",
       "        <th>Lowpass</th>\n",
       "        <td>2500.00 Hz</td>\n",
       "    </tr>\n",
       "\n",
       "    <tr>\n",
       "        <th>Filenames</th>\n",
       "        <td>letty_subj_6.eeg</td>\n",
       "    </tr>\n",
       "    <tr>\n",
       "        <th>Duration</th>\n",
       "        <td>00:30:42 (HH:MM:SS)</td>\n",
       "    </tr>\n",
       "</table>\n"
      ],
      "text/plain": [
       "<RawBrainVision | letty_subj_6.eeg, 65 x 9212750 (1842.5 s), ~4.46 GB, data loaded>"
      ]
     },
     "execution_count": 55,
     "metadata": {},
     "output_type": "execute_result"
    }
   ],
   "source": [
    "raw_mapped = raw.copy()\n",
    "raw_mapped.rename_channels(mapping_dict)\n",
    "raw_mapped.add_reference_channels(ref_channels = ['Cz'])"
   ]
  },
  {
   "cell_type": "code",
   "execution_count": 51,
   "id": "e76a2898",
   "metadata": {},
   "outputs": [
    {
     "data": {
      "text/plain": [
       "63"
      ]
     },
     "execution_count": 51,
     "metadata": {},
     "output_type": "execute_result"
    }
   ],
   "source": [
    "dig = mne.channels.read_dig_captrak('../data/captrak/subj_6.bvct')\n",
    "# dig.ch_names\n",
    "len(dig.ch_names) # doesn't have IZ?\n",
    "# mapping = {'Ch%s'%i: dig.ch_names[i] for i in range(len(dig.ch_names))}\n",
    "# mapping\n",
    "raw = raw.set_montage(dig)"
   ]
  },
  {
   "cell_type": "code",
   "execution_count": 9,
   "id": "c4462b8f",
   "metadata": {},
   "outputs": [
    {
     "data": {
      "text/plain": [
       "{'Ch0': 'T7',\n",
       " 'Ch1': 'FC5',\n",
       " 'Ch2': 'C5',\n",
       " 'Ch3': 'CP5',\n",
       " 'Ch4': 'F7',\n",
       " 'Ch5': 'FT7',\n",
       " 'Ch6': 'TP7',\n",
       " 'Ch7': 'P7',\n",
       " 'Ch8': 'FT9',\n",
       " 'Ch9': 'TP9',\n",
       " 'Ch10': 'PO7',\n",
       " 'Ch11': 'P3',\n",
       " 'Ch12': 'P5',\n",
       " 'Ch13': 'C3',\n",
       " 'Ch14': 'CP3',\n",
       " 'Ch15': 'O1',\n",
       " 'Ch16': 'PO3',\n",
       " 'Ch17': 'Iz',\n",
       " 'Ch18': 'Oz',\n",
       " 'Ch19': 'POz',\n",
       " 'Ch20': 'O2',\n",
       " 'Ch21': 'PO4',\n",
       " 'Ch22': 'Pz',\n",
       " 'Ch23': 'P1',\n",
       " 'Ch24': 'P2',\n",
       " 'Ch25': 'CP2',\n",
       " 'Ch26': 'CPz',\n",
       " 'Ch27': 'CP1',\n",
       " 'Ch28': 'Cz',\n",
       " 'Ch29': 'C1',\n",
       " 'Ch30': 'FC1',\n",
       " 'Ch31': 'FC3',\n",
       " 'Ch32': 'Fz',\n",
       " 'Ch33': 'F3',\n",
       " 'Ch34': 'F1',\n",
       " 'Ch35': 'F5',\n",
       " 'Ch36': 'AF3',\n",
       " 'Ch37': 'Fp1',\n",
       " 'Ch38': 'AFz',\n",
       " 'Ch39': 'GND',\n",
       " 'Ch40': 'F2',\n",
       " 'Ch41': 'Fp2',\n",
       " 'Ch42': 'AF4',\n",
       " 'Ch43': 'F4',\n",
       " 'Ch44': 'F6',\n",
       " 'Ch45': 'F8',\n",
       " 'Ch46': 'FC2',\n",
       " 'Ch47': 'FC4',\n",
       " 'Ch48': 'FC6',\n",
       " 'Ch49': 'C2',\n",
       " 'Ch50': 'C4',\n",
       " 'Ch51': 'P4',\n",
       " 'Ch52': 'CP4',\n",
       " 'Ch53': 'P6',\n",
       " 'Ch54': 'P8',\n",
       " 'Ch55': 'PO8',\n",
       " 'Ch56': 'CP6',\n",
       " 'Ch57': 'TP10',\n",
       " 'Ch58': 'TP8',\n",
       " 'Ch59': 'FT10',\n",
       " 'Ch60': 'FT8',\n",
       " 'Ch61': 'T8',\n",
       " 'Ch62': 'C6'}"
      ]
     },
     "execution_count": 9,
     "metadata": {},
     "output_type": "execute_result"
    }
   ],
   "source": [
    "dig = mne.channels.read_dig_captrak('../data/captrak/sub-5.bvct')\n",
    "mapping = {'Ch%s'%i: dig.ch_names[i] for i in range(len(dig.ch_names))}\n",
    "del mapping['']"
   ]
  },
  {
   "cell_type": "code",
   "execution_count": 4,
   "id": "d87d741a",
   "metadata": {},
   "outputs": [
    {
     "name": "stdout",
     "output_type": "stream",
     "text": [
      "Extracting parameters from ../data/raw/letty_subj_2.vhdr...\n",
      "Setting channel info structure...\n"
     ]
    },
    {
     "data": {
      "text/plain": [
       "['Ch1',\n",
       " 'Ch2',\n",
       " 'Ch3',\n",
       " 'Ch4',\n",
       " 'Ch5',\n",
       " 'Ch6',\n",
       " 'Ch7',\n",
       " 'Ch8',\n",
       " 'Ch9',\n",
       " 'Ch10',\n",
       " 'Ch11',\n",
       " 'Ch12',\n",
       " 'Ch13',\n",
       " 'Ch14',\n",
       " 'Ch15',\n",
       " 'Ch16',\n",
       " 'Ch17',\n",
       " 'Ch18',\n",
       " 'Ch19',\n",
       " 'Ch20',\n",
       " 'Ch21',\n",
       " 'Ch22',\n",
       " 'Ch23',\n",
       " 'Ch25',\n",
       " 'Ch26',\n",
       " 'Ch27',\n",
       " 'Ch28',\n",
       " 'Ch29',\n",
       " 'Ch30',\n",
       " 'Ch31',\n",
       " 'Ch32',\n",
       " 'Ch33',\n",
       " 'Ch34',\n",
       " 'Ch35',\n",
       " 'Ch36',\n",
       " 'Ch37',\n",
       " 'Ch38',\n",
       " 'Ch39',\n",
       " 'Ch40',\n",
       " 'Ch41',\n",
       " 'Ch42',\n",
       " 'Ch43',\n",
       " 'Ch44',\n",
       " 'Ch45',\n",
       " 'Ch46',\n",
       " 'Ch47',\n",
       " 'Ch48',\n",
       " 'Ch49',\n",
       " 'Ch50',\n",
       " 'Ch51',\n",
       " 'Ch52',\n",
       " 'Ch53',\n",
       " 'Ch54',\n",
       " 'Ch55',\n",
       " 'Ch56',\n",
       " 'Ch57',\n",
       " 'Ch58',\n",
       " 'Ch59',\n",
       " 'Ch60',\n",
       " 'Ch61',\n",
       " 'Ch62',\n",
       " 'Ch63',\n",
       " 'Ch64',\n",
       " 'Aux1']"
      ]
     },
     "execution_count": 4,
     "metadata": {},
     "output_type": "execute_result"
    }
   ],
   "source": [
    "fpath = '../data/raw/letty_subj_2.vhdr'\n",
    "raw = mne.io.read_raw_brainvision(fpath)\n",
    "raw.ch_names"
   ]
  }
 ],
 "metadata": {
  "kernelspec": {
   "display_name": "Python 3 (ipykernel)",
   "language": "python",
   "name": "python3"
  },
  "language_info": {
   "codemirror_mode": {
    "name": "ipython",
    "version": 3
   },
   "file_extension": ".py",
   "mimetype": "text/x-python",
   "name": "python",
   "nbconvert_exporter": "python",
   "pygments_lexer": "ipython3",
   "version": "3.10.2"
  }
 },
 "nbformat": 4,
 "nbformat_minor": 5
}
