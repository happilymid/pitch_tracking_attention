{
 "cells": [
  {
   "cell_type": "code",
   "execution_count": null,
   "id": "71bf1a10",
   "metadata": {},
   "outputs": [],
   "source": [
    "import numpy as np\n",
    "import os.path as op\n",
    "from pprint import pformat\n",
    "\n",
    "# EEG utilities\n",
    "import mne\n",
    "from mne.preprocessing import ICA, create_eog_epochs\n",
    "from pyprep.prep_pipeline import PrepPipeline\n",
    "from autoreject import get_rejection_threshold, validation_curve\n",
    "\n",
    "# BIDS utilities\n",
    "from mne_bids import BIDSPath, read_raw_bids\n",
    "from util.io.bids import DataSink\n",
    "from bids import BIDSLayout"
   ]
  },
  {
   "cell_type": "code",
   "execution_count": null,
   "id": "d83e92f9",
   "metadata": {},
   "outputs": [],
   "source": [
    "# Constants\n",
    "BIDS_ROOT = '../data/bids'\n",
    "DERIV_ROOT = op.join(BIDS_ROOT, 'derivatives')\n",
    "LOWPASS = 300\n",
    "FS = 2000\n",
    "REJECT_THRES = 5e-7 # 50 microvolts\n",
    "\n",
    "# Parse BIDS directory\n",
    "layout = BIDSLayout(BIDS_ROOT)\n",
    "subjects = layout.get_subjects()\n",
    "tasks = layout.get_tasks()\n",
    "runs = layout.get_runs()\n",
    "print(subjects, tasks, runs)"
   ]
  },
  {
   "cell_type": "markdown",
   "id": "7f9e5c88",
   "metadata": {},
   "source": [
    "## Wrapper\n",
    "Since we have to loop over all the data files the section below will contain the for loop and all subsequent sections the functions for each preprocessing step."
   ]
  },
  {
   "cell_type": "code",
   "execution_count": null,
   "id": "1fee8074",
   "metadata": {},
   "outputs": [],
   "source": [
    "for sub_idx, sub in enumerate(subjects)\n",
    "    sub = subjects[sub_idx]\n",
    "    task = tasks[sub_idx]\n",
    "    run = str(run[sub_idx])\n",
    "    \n",
    "    # Import data\n",
    "    bids_path = get_bids_path(sub, task, run)\n",
    "    raw = import_bids_data(bids_path)\n",
    "    events, event_ids = read_events(raw)\n",
    "    raw = set_electrode_positions(raw, 'standard_1020', 'Aux1')\n",
    "    \n",
    "#     Make copy of unprocessed raw data for later comparison\n",
    "#     raw_unprocessed = raw.copy()\n",
    "    \n",
    "    # Resampling and PREP\n",
    "    raw, events = resample(FS, events)\n",
    "    raw = run_PREP(raw, sub_idx, LOWPASS)\n",
    "    \n",
    "    # Apply the following preprocessing steps to two copies of the data\n",
    "    raw_for_ica = bandpass(l_freq = 1., h_freq = 1000)\n",
    "    raw = bandpass(l_freq = 30, h_freq = 270)\n",
    "    \n",
    "    raw_for_ica = create_eogs(raw_for_ica)\n",
    "    raw = create_eogs(raw)\n",
    "    \n",
    "    epochs_for_ica = epoch(raw_for_ica)\n",
    "    epochs = epoch(raw)\n",
    "    \n",
    "    ica = compute_ICA(epochs_for_ica) # run ICA on less aggressively filtered data\n",
    "    epochs = apply_ICA(epochs_for_ica, epochs) # apply ICA on more aggressively filtered data\n",
    "    "
   ]
  },
  {
   "cell_type": "markdown",
   "id": "88f1448d",
   "metadata": {},
   "source": [
    "## Functions\n",
    "#### Import data "
   ]
  },
  {
   "cell_type": "code",
   "execution_count": null,
   "id": "0b753ce5",
   "metadata": {},
   "outputs": [],
   "source": [
    "def get_bids_path(sub, task, run)\n",
    "    bids_path = BIDSPath(root = BIDS_ROOT,\n",
    "                        subject = sub,\n",
    "                        task = task,\n",
    "                        datatype = 'eeg',\n",
    "                        run = run)\n",
    "    return bids_path\n",
    "\n",
    "def import_bids_data(bids_path)\n",
    "    raw = read_raw_bids(bids_path, verbose = False)\n",
    "    raw = raw.pick_types(eeg = True)\n",
    "    return raw\n",
    "\n",
    "def set_electrode_positions(raw, montage_name, stim_channel)\n",
    "    dig = mne.channels.make_standard_montage(montage_name)\n",
    "    raw = raw.set_channel_types({stim_channel: 'stim'}) % abstract?\n",
    "    raw = raw.set_montage(dig)\n",
    "    return raw\n",
    "\n",
    "def read_events(raw)    \n",
    "    events, events_ids = mne.events_from_annotations(raw)\n",
    "    return events, events_ids"
   ]
  },
  {
   "cell_type": "markdown",
   "id": "425732b6",
   "metadata": {},
   "source": [
    "#### Resampling and PREP"
   ]
  },
  {
   "cell_type": "code",
   "execution_count": null,
   "id": "900bb2a6",
   "metadata": {},
   "outputs": [],
   "source": [
    "def resample(fs, events) # Resample to a more manageable speed\n",
    "    raw, events = raw.resample(fs, events = events)\n",
    "    return raw, events\n",
    "\n",
    "def run_PREP(raw, sub_idx, LOWPASS) # Run PREP pipeline (notch, exclude bad channels, and re-reference)\n",
    "    raw.load_data()\n",
    "    np.random.seed(sub_idx)\n",
    "\n",
    "    lf = raw.info['line_freq']\n",
    "    prep_params = {\n",
    "        'ref_chs': 'eeg',\n",
    "        'reref_chs': 'eeg',\n",
    "        'line_freqs': np.arange(lf, LOWPASS, lf) if np.arange(lf, LOWPASS, lf).size > 0 else [lf]\n",
    "    }\n",
    "    prep = PrepPipeline(raw, prep_params, raw.get_montage(), ransac = False, random_state = sub_idx)\n",
    "    prep.fit()\n",
    "\n",
    "    raw = prep.raw_eeg # replace raw with cleaned version\n",
    "    return raw"
   ]
  },
  {
   "cell_type": "markdown",
   "id": "25202638",
   "metadata": {},
   "source": [
    "#### Apply the following preprocessing steps to two copies of the data\n",
    "Split the data into two copies, one filtered more liberally for ICA so that high frequency noise can be detected, one band-pass filtered at the behaviorally relevant frequencies. All of the following preprocessing steps will be applied to each of the copies."
   ]
  },
  {
   "cell_type": "code",
   "execution_count": null,
   "id": "916d8628",
   "metadata": {},
   "outputs": [],
   "source": [
    "def bandpass(raw, l_freq, h_freq)\n",
    "    raw = raw.filter(l_freq = l_freq, h_freq = h_freq)\n",
    "    return raw\n",
    "\n",
    "def create_eogs(raw)\n",
    "    raw = mne.set_bipolar_reference(raw, anode = 'Fp1', cathode = 'FT10', ch_name = 'eog1', drop_refs = False)\n",
    "    raw = mne.set_bipolar_reference(raw, anode = 'Fp2', cathode = 'FT9', ch_name = 'eog2', drop_refs = False)\n",
    "    raw = raw.set_channel_types({'eog1': 'eog', 'eog2': 'eog'})\n",
    "    return raw\n",
    "\n",
    "def epoch(raw)\n",
    "    epochs = mne.Epochs(\n",
    "        raw, \n",
    "        events, \n",
    "        tmin = -0.2, \n",
    "        tmax = 0.250, \n",
    "        baseline = None, # do NOT baseline correct the trials yet; we do that after ICA\n",
    "        event_id = event_ids, # remember which epochs are associated with which condition\n",
    "        preload = True # keep data in memory\n",
    "    )\n",
    "    return epochs\n",
    "\n",
    "def compute_ICA(raw, epochs)\n",
    "    ica = ICA(n_components = 15, random_state = 0)\n",
    "    ica.fit(epochs, picks = 'eeg')\n",
    "    return ica\n",
    "\n",
    "def apply_ICA(epochs_for_ica, epochs)\n",
    "    eog_indices, eog_scores = ice.find_bads_eog(epochs_for_ica, threshold = 1.96)\n",
    "    ica.exclude = eog_indices\n",
    "    ica.apply(epochs) # apply to aggressively filtered version of data\n",
    "    return epochs\n",
    "\n",
    "# # Create virtual EOG channels with electrodes dropped to the face\n",
    "# raw_for_ica = mne.set_bipolar_reference(raw_for_ica, anode = 'Fp1', cathode = 'FT10', ch_name = 'eog1', drop_refs = False)\n",
    "# raw_for_ica = mne.set_bipolar_reference(raw_for_ica, anode = 'Fp2', cathode = 'FT9', ch_name = 'eog2', drop_refs = False)\n",
    "# raw_for_ica = raw_for_ica.set_channel_types({'eog1': 'eog', 'eog2': 'eog'})\n",
    "\n",
    "# raw = mne.set_bipolar_reference(raw, anode = 'Fp1', cathode = 'FT10', ch_name = 'eog1', drop_refs = False)\n",
    "# raw = mne.set_bipolar_reference(raw, anode = 'Fp2', cathode = 'FT9', ch_name = 'eog2', drop_refs = False)\n",
    "# raw = raw.set_channel_types({'eog1': 'eog', 'eog2': 'eog'})"
   ]
  },
  {
   "cell_type": "code",
   "execution_count": null,
   "id": "8b79bfed",
   "metadata": {},
   "outputs": [],
   "source": [
    "# # Epoch\n",
    "# epochs_for_ica = mne.Epochs(\n",
    "#     raw_for_ica, \n",
    "#     events, \n",
    "#     tmin = -0.2, \n",
    "#     tmax = 0.250, \n",
    "#     baseline = None, # do NOT baseline correct the trials yet; we do that after ICA\n",
    "#     event_id = event_ids, # remember which epochs are associated with which condition\n",
    "#     preload = True # keep data in memory\n",
    "# )\n",
    "\n",
    "# epochs = mne.Epochs(\n",
    "#     raw, \n",
    "#     events, \n",
    "#     tmin = -0.2, \n",
    "#     tmax = 0.250, \n",
    "#     baseline = None, # do NOT baseline correct the trials yet; we do that after ICA\n",
    "#     event_id = event_ids, # remember which epochs are associated with which condition\n",
    "#     preload = True # keep data in memory\n",
    "# )"
   ]
  },
  {
   "cell_type": "code",
   "execution_count": null,
   "id": "12e86cb9",
   "metadata": {},
   "outputs": [],
   "source": [
    "# # Compute ICA components on a copy of the data\n",
    "# ica = ICA(n_components = 15, random_state = 0)\n",
    "# ica.fit(epochs_for_ica, picks = 'eeg')\n",
    "\n",
    "# # Plot ICA components\n",
    "# fig_ica = ica.plot_components()"
   ]
  },
  {
   "cell_type": "code",
   "execution_count": null,
   "id": "75c43e36",
   "metadata": {},
   "outputs": [],
   "source": [
    "# # Exclude ICA components correlated with EOG\n",
    "# eog_indices, eog_scores = ice.find_bads_eog(epochs_for_ica, threshold = 1.96)\n",
    "# ica.exclude = eog_indices\n",
    "# ica.apply(epochs) # apply to aggressively filtered version of data\n",
    "\n",
    "# # Plot excluded ICA components\n",
    "# if ica.exclude:\n",
    "#     fig_ica_removed = ica.plot_components(ica.exclude)"
   ]
  },
  {
   "cell_type": "markdown",
   "id": "c3ea2ba6",
   "metadata": {},
   "source": [
    "#### Apply final preprocessing steps on original copy of data\n",
    "Back to applying preprocessing on only one copy of the data. ICA is finished."
   ]
  },
  {
   "cell_type": "code",
   "execution_count": null,
   "id": "a60260aa",
   "metadata": {},
   "outputs": [],
   "source": [
    "\n",
    "\n",
    "# Baseline correction after ICA\n",
    "epochs = epochs.pick_types(eeg = True)\n",
    "epochs = epochs.apply_baseline((-0.2, 0.))"
   ]
  },
  {
   "cell_type": "code",
   "execution_count": null,
   "id": "4b4c2ab5",
   "metadata": {},
   "outputs": [],
   "source": [
    "# Reject bad trials with hard-coded threshold\n",
    "epochs = epochs.drop_bad(reject = {'eeg': REJECT_THRES})"
   ]
  },
  {
   "cell_type": "markdown",
   "id": "c07b9587",
   "metadata": {},
   "source": [
    "#### Plot results"
   ]
  },
  {
   "cell_type": "code",
   "execution_count": null,
   "id": "51d68cd2",
   "metadata": {},
   "outputs": [],
   "source": [
    "# Plot preprocessed data\n",
    "fig_erp = epochs['50'].average().plot(spatial_colors = True)"
   ]
  },
  {
   "cell_type": "code",
   "execution_count": null,
   "id": "d66363d5",
   "metadata": {},
   "outputs": [],
   "source": [
    "# Plot unprocessed data\n",
    "epochs_unprocessed = mne.Epochs(\n",
    "    raw_unprocessed, \n",
    "    events, \n",
    "    tmin = -0.2, \n",
    "    tmax = 0.8, \n",
    "    baseline = (-0.2, 0.0), # baseline correct to be fair\n",
    "    event_id = event_ids,\n",
    "    preload = True\n",
    ")\n",
    "bad_fig = epochs_unprocessed.average().plot(spatial_colors = True)"
   ]
  },
  {
   "cell_type": "markdown",
   "id": "bd957cb5",
   "metadata": {},
   "source": [
    "#### Save results and generate report"
   ]
  },
  {
   "cell_type": "code",
   "execution_count": null,
   "id": "3b43faec",
   "metadata": {},
   "outputs": [],
   "source": [
    "sink = DataSink(DERIV_ROOT, 'preprocessing')\n",
    "\n",
    "# Save cleaned data\n",
    "fpath = sink.get_path(\n",
    "                subject = sub,\n",
    "                task = task, \n",
    "                desc = 'clean',\n",
    "                suffix = 'epo', # this suffix is following MNE, not BIDS, naming conventions\n",
    "                extension = 'fif.gz',\n",
    "                )\n",
    "epochs.save(fpath, overwrite = True)"
   ]
  },
  {
   "cell_type": "code",
   "execution_count": null,
   "id": "d2f75fc5",
   "metadata": {},
   "outputs": [],
   "source": [
    "# Generate a report\n",
    "report = mne.Report(verbose = True)\n",
    "report.parse_folder(op.dirname(fpath), pattern = '*epo.fif.gz', render_bem = False)\n",
    "report.add_figs_to_section(\n",
    "    fig_erp, \n",
    "    captions = 'Average Evoked Response', \n",
    "    section = 'evoked'\n",
    ")\n",
    "if ica.exclude:\n",
    "    report.add_figs_to_section(\n",
    "        fig_ica_removed, \n",
    "        captions = 'Removed ICA Components', \n",
    "        section = 'ICA'\n",
    "    ) \n",
    "bads = prep.noisy_channels_original\n",
    "html_lines = []\n",
    "for line in pformat(bads).splitlines():\n",
    "    html_lines.append('<br/>%s' % line) \n",
    "html = '\\n'.join(html_lines)\n",
    "report.add_htmls_to_section(html, captions = 'Interpolated Channels', section = 'channels')\n",
    "report.add_htmls_to_section('<br/>threshold: {:0.2f} microvolts</br>'.format(thres['eeg'] * 1e6), \n",
    "                            captions = 'Trial Rejection Criteria', section = 'rejection')\n",
    "report.add_htmls_to_section(epochs.info._repr_html_(), captions = 'Info', section = 'info')\n",
    "report.save(op.join(sink.deriv_root, 'sub-%s.html'%sub), overwrite = True)"
   ]
  },
  {
   "cell_type": "code",
   "execution_count": null,
   "id": "65899345",
   "metadata": {},
   "outputs": [],
   "source": [
    "# Check data files are saved\n",
    "from mne_bids import print_dir_tree\n",
    "print_dir_tree(BIDS_ROOT)"
   ]
  }
 ],
 "metadata": {
  "kernelspec": {
   "display_name": "Python 3 (ipykernel)",
   "language": "python",
   "name": "python3"
  },
  "language_info": {
   "codemirror_mode": {
    "name": "ipython",
    "version": 3
   },
   "file_extension": ".py",
   "mimetype": "text/x-python",
   "name": "python",
   "nbconvert_exporter": "python",
   "pygments_lexer": "ipython3",
   "version": "3.10.2"
  }
 },
 "nbformat": 4,
 "nbformat_minor": 5
}
