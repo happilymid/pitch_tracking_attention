{
 "cells": [
  {
   "cell_type": "code",
   "execution_count": 1,
   "id": "e2a7e65e",
   "metadata": {},
   "outputs": [],
   "source": [
    "import os\n",
    "import os.path as op\n",
    "import mne\n",
    "import numpy as np\n",
    "import re\n",
    "import itertools\n",
    "import pandas as pd\n",
    "\n",
    "from typing import Tuple, Iterator\n",
    "from mne_bids import BIDSPath, read_raw_bids, print_dir_tree\n",
    "from mne.time_frequency import tfr_morlet\n",
    "from bids import BIDSLayout\n",
    "\n",
    "from sklearn.pipeline import make_pipeline\n",
    "from sklearn.preprocessing import StandardScaler\n",
    "from sklearn.linear_model import LogisticRegression\n",
    "from mne.decoding import SlidingEstimator, cross_val_multiscore"
   ]
  },
  {
   "cell_type": "code",
   "execution_count": 2,
   "id": "65ccf1dc",
   "metadata": {},
   "outputs": [],
   "source": [
    "BIDS_ROOT = '../data/bids'\n",
    "STIM_FREQS = np.array([50, 100, 150, 200, 250])\n",
    "FS = 2000"
   ]
  },
  {
   "cell_type": "markdown",
   "id": "f74f47b4",
   "metadata": {},
   "source": [
    "## Functions"
   ]
  },
  {
   "cell_type": "code",
   "execution_count": 3,
   "id": "1d777c73",
   "metadata": {},
   "outputs": [],
   "source": [
    "KeyType = Tuple[str, str, str, str]\n",
    "\n",
    "def get_fpaths(bids_root) -> Iterator[KeyType]:\n",
    "    # Get filepaths\n",
    "    layout = BIDSLayout(bids_root, derivatives = True)\n",
    "    fpaths = layout.get(scope = 'preprocessing',\n",
    "                        extension = 'fif.gz',\n",
    "                        return_type = 'filename')\n",
    "    fpaths.pop(0)\n",
    "    \n",
    "    # Get corresponding subject number\n",
    "    filter_subs = re.compile('sub-(\\d)_')\n",
    "    subs = list(map(filter_subs.findall, fpaths))\n",
    "    subs = list(itertools.chain(*subs))\n",
    "    \n",
    "    # Get corresponding run number\n",
    "    filter_runs = re.compile('run-(\\d)')\n",
    "    runs = list(map(filter_runs.findall, fpaths))\n",
    "    runs = list(itertools.chain(*runs))\n",
    "    \n",
    "    for i in range(len(fpaths)):\n",
    "        key = (fpaths[i], subs[i], 'tasks', runs[i])\n",
    "        yield key\n",
    "\n",
    "def load_fif(fname):\n",
    "    epochs = mne.read_epochs(fname)\n",
    "    return epochs\n",
    "\n",
    "def get_power_at_stim_freqs(epochs, stim_freqs):\n",
    "    n_cycles = stim_freqs / 7.  # different number of cycle per frequency\n",
    "    power = tfr_morlet(epochs, \n",
    "                       freqs = stim_freqs, \n",
    "                       n_cycles = n_cycles, \n",
    "                       use_fft = True,\n",
    "                       return_itc = False, \n",
    "                       decim = 3, \n",
    "                       n_jobs = 1,\n",
    "                       average = False)\n",
    "\n",
    "    return power"
   ]
  },
  {
   "cell_type": "markdown",
   "id": "0f9f603a",
   "metadata": {},
   "source": [
    "## Compute power"
   ]
  },
  {
   "cell_type": "code",
   "execution_count": 4,
   "id": "36fe7d39",
   "metadata": {},
   "outputs": [
    {
     "name": "stdout",
     "output_type": "stream",
     "text": [
      "Reading /Users/nusbaumlab/src/pitch_tracking/analysis/../data/bids/derivatives/preprocessing/sub-2/sub-2_task-pitch_run-1_desc-clean_epo.fif.gz ...\n"
     ]
    },
    {
     "name": "stderr",
     "output_type": "stream",
     "text": [
      "/Users/nusbaumlab/opt/anaconda3/envs/pitch-tracking/lib/python3.10/site-packages/bids/layout/validation.py:149: UserWarning: The PipelineDescription field was superseded by GeneratedBy in BIDS 1.4.0. You can use ``pybids upgrade`` to update your derivative dataset.\n",
      "  warnings.warn(\"The PipelineDescription field was superseded \"\n"
     ]
    },
    {
     "name": "stdout",
     "output_type": "stream",
     "text": [
      "    Found the data of interest:\n",
      "        t =    -200.00 ...     250.00 ms\n",
      "        0 CTF compensation matrices available\n",
      "Not setting metadata\n",
      "Not setting metadata\n",
      "4553 matching events found\n",
      "No baseline correction applied\n",
      "0 projection items activated\n"
     ]
    },
    {
     "name": "stderr",
     "output_type": "stream",
     "text": [
      "/var/folders/hv/vj9_d69170l26hyj9hqqj45h0000gn/T/ipykernel_46381/838366204.py:7: RuntimeWarning: This filename (/Users/nusbaumlab/src/pitch_tracking/analysis/../data/bids/derivatives/preprocessing/sub-2/sub-2_task-pitch_run-1_desc-clean_epo.fif.gz) does not conform to MNE naming conventions. All events files should end with .eve, -eve.fif, -eve.fif.gz, -eve.lst, -eve.txt, _eve.fif, _eve.fif.gz, _eve.lst, _eve.txt or -annot.fif\n",
      "  events = mne.read_events(fpath)\n"
     ]
    },
    {
     "name": "stdout",
     "output_type": "stream",
     "text": [
      "Not setting metadata\n"
     ]
    }
   ],
   "source": [
    "# powers = []\n",
    "# events = []\n",
    "for (fpath, sub, task, run) in get_fpaths(BIDS_ROOT):\n",
    "    epochs = load_fif(fpath)\n",
    "    epochs = epochs.crop(tmin = 0)\n",
    "#     events.append(mne.read_events(fpath)) #CHANGEBACK\n",
    "    events = mne.read_events(fpath)\n",
    "    power = get_power_at_stim_freqs(epochs, STIM_FREQS)\n",
    "    log_power = np.log10(power)\n",
    "#     powers.append(log_power) #CHANGEBACK\n",
    "#     power = log_power \n",
    "    break"
   ]
  },
  {
   "cell_type": "markdown",
   "id": "05e53265",
   "metadata": {},
   "source": [
    "## Shape data for decoder"
   ]
  },
  {
   "cell_type": "code",
   "execution_count": 9,
   "id": "ffdbce84",
   "metadata": {},
   "outputs": [],
   "source": [
    "# Get some information\n",
    "power = log_power \n",
    "n_epochs = np.shape(power)[0]\n",
    "n_channels = np.shape(power)[1]\n",
    "n_freqs = np.shape(power)[2]\n",
    "n_windows = np.shape(power)[3]\n",
    "\n",
    "# Reshape for classifier\n",
    "power = power.reshape((n_epochs, n_freqs * n_channels, n_windows)) # Set order to preserve epoch order"
   ]
  },
  {
   "cell_type": "code",
   "execution_count": 11,
   "id": "092d0508",
   "metadata": {},
   "outputs": [
    {
     "data": {
      "text/plain": [
       "(0       250\n",
       " 1       250\n",
       " 2        50\n",
       " 3        50\n",
       " 4        50\n",
       "        ... \n",
       " 4548     50\n",
       " 4549    150\n",
       " 4550    100\n",
       " 4551     50\n",
       " 4552     50\n",
       " Length: 4553, dtype: int64,)"
      ]
     },
     "execution_count": 11,
     "metadata": {},
     "output_type": "execute_result"
    }
   ],
   "source": [
    "# Create array of condition labels\n",
    "labels = events[:, 2]\n",
    "labels = pd.Series(labels)\n",
    "labels = labels.replace({10001 : 50, 10002 : 100, 10003 : 150, 10004 : 200, 10005 : 250})"
   ]
  },
  {
   "cell_type": "markdown",
   "id": "c000cf8e",
   "metadata": {},
   "source": [
    "## Decode"
   ]
  },
  {
   "cell_type": "code",
   "execution_count": null,
   "id": "b77fe62f",
   "metadata": {},
   "outputs": [
    {
     "name": "stderr",
     "output_type": "stream",
     "text": [
      "[Parallel(n_jobs=8)]: Using backend LokyBackend with 8 concurrent workers.\n",
      "/Users/nusbaumlab/opt/anaconda3/envs/pitch-tracking/lib/python3.10/site-packages/mne/externals/tqdm/__init__.py:5: DeprecationWarning: distutils Version classes are deprecated. Use packaging.version instead.\n",
      "  if LooseVersion(__version__) < LooseVersion('4.36'):\n",
      "/Users/nusbaumlab/opt/anaconda3/envs/pitch-tracking/lib/python3.10/site-packages/mne/externals/tqdm/__init__.py:5: DeprecationWarning: distutils Version classes are deprecated. Use packaging.version instead.\n",
      "  if LooseVersion(__version__) < LooseVersion('4.36'):\n",
      "100%|██████████| Fitting SlidingEstimator : 167/167 [01:20<00:00,    2.07it/s]\n",
      "100%|██████████| Transforming SlidingEstimator : 167/167 [00:00<00:00,  309.08it/s]\n",
      "[Parallel(n_jobs=8)]: Done   2 out of   5 | elapsed:  1.7min remaining:  2.5min\n"
     ]
    }
   ],
   "source": [
    "# Create dataframe for classifier (trials x features x time), one for each subject\n",
    "power = power.reshape((n_epochs, n_freqs * n_channels, n_windows)) # Set order to preserve epoch order\n",
    "\n",
    "n_stimuli = 5\n",
    "metric = 'accuracy'\n",
    "\n",
    "clf = make_pipeline(\n",
    "    StandardScaler(),\n",
    "    LogisticRegression(solver = 'liblinear')  # liblinear is faster than lbfgs\n",
    ")\n",
    "time_decod = SlidingEstimator(clf, scoring = metric, n_jobs = -1)\n",
    "scores = cross_val_multiscore(\n",
    "    time_decod,\n",
    "    power, # a trials x features x time array\n",
    "    labels, # an (n_trials,) array of integer condition labels\n",
    "    cv = 5, scoring = metric, # use stratified 5-fold cross-validation\n",
    "    n_jobs = -1 # use all available CPU cores\n",
    ")\n",
    "scores = np.mean(scores, axis = 0) # average across cv splits\n",
    "\n",
    "# plot\n",
    "fig, ax = plt.subplots()\n",
    "ax.plot(epochs.times, scores, label = 'score')\n",
    "ax.axhline(1/n_stimuli, color = 'k', linestyle = '--', label = 'chance')\n",
    "ax.set_xlabel('Times')\n",
    "ax.set_ylabel(metric)  # Area Under the Curve\n",
    "ax.legend()\n",
    "ax.set_title('Sensor space decoding')"
   ]
  }
 ],
 "metadata": {
  "kernelspec": {
   "display_name": "Python 3 (ipykernel)",
   "language": "python",
   "name": "python3"
  },
  "language_info": {
   "codemirror_mode": {
    "name": "ipython",
    "version": 3
   },
   "file_extension": ".py",
   "mimetype": "text/x-python",
   "name": "python",
   "nbconvert_exporter": "python",
   "pygments_lexer": "ipython3",
   "version": "3.10.2"
  }
 },
 "nbformat": 4,
 "nbformat_minor": 5
}
