{
 "cells": [
  {
   "cell_type": "code",
   "execution_count": 1,
   "id": "b6824355",
   "metadata": {},
   "outputs": [],
   "source": [
    "import os\n",
    "import os.path as op\n",
    "import mne\n",
    "import numpy as np\n",
    "import re\n",
    "import itertools\n",
    "from typing import Tuple, Iterator\n",
    "from mne_bids import BIDSPath, read_raw_bids, print_dir_tree\n",
    "from mne.time_frequency import tfr_morlet, psd_multitaper, psd_welch\n",
    "from bids import BIDSLayout"
   ]
  },
  {
   "cell_type": "code",
   "execution_count": 2,
   "id": "930c42f2",
   "metadata": {},
   "outputs": [],
   "source": [
    "BIDS_ROOT = '../data/bids'\n",
    "STIM_FREQS = np.array([50, 100, 150, 200, 250])"
   ]
  },
  {
   "cell_type": "code",
   "execution_count": 26,
   "id": "7bd3dedc",
   "metadata": {},
   "outputs": [
    {
     "name": "stdout",
     "output_type": "stream",
     "text": [
      "ERROR! Session/line number was not unique in database. History logging moved to new session 146\n"
     ]
    }
   ],
   "source": [
    "KeyType = Tuple[str, str, str, str]\n",
    "\n",
    "def get_fpaths(bids_root) -> Iterator[KeyType]:\n",
    "    # Get filepaths\n",
    "    layout = BIDSLayout(bids_root, derivatives = True)\n",
    "    fpaths = layout.get(scope = 'preprocessing',\n",
    "                        extension = 'fif.gz',\n",
    "                        return_type = 'filename')\n",
    "    fpaths.pop(0)\n",
    "    \n",
    "    # Get corresponding subject number\n",
    "    filter_subs = re.compile('sub-(\\d)_')\n",
    "    subs = list(map(filter_subs.findall, fpaths))\n",
    "    subs = list(itertools.chain(*subs))\n",
    "    \n",
    "    # Get corresponding run number\n",
    "    filter_runs = re.compile('run-(\\d)')\n",
    "    runs = list(map(filter_runs.findall, fpaths))\n",
    "    runs = list(itertools.chain(*runs))\n",
    "    \n",
    "    for i in range(len(fpaths)):\n",
    "        key = (fpaths[i], subs[i], 'tasks', runs[i])\n",
    "        yield key\n",
    "\n",
    "def load_fif(fname):\n",
    "    epochs = mne.read_epochs(fname)\n",
    "    return epochs\n",
    "\n",
    "def get_power_at_stim_freqs(epochs, stim_freqs):\n",
    "    n_cycles = stim_freqs / 7.  # different number of cycle per frequency\n",
    "    power = tfr_morlet(epochs, \n",
    "                       freqs = stim_freqs, \n",
    "                       n_cycles = n_cycles, \n",
    "                       use_fft = True,\n",
    "                       return_itc = False, \n",
    "                       decim = 3, \n",
    "                       n_jobs = 1,\n",
    "                       average = False)\n",
    "    return power"
   ]
  },
  {
   "cell_type": "code",
   "execution_count": 6,
   "id": "3560033d",
   "metadata": {},
   "outputs": [],
   "source": [
    "# layout = BIDSLayout(BIDS_ROOT, derivatives = True)\n",
    "# runs = layout.get_runs()\n",
    "# for (fpath, sub, task, run) in get_fpaths(BIDS_ROOT):\n",
    "#     print(fpath, sub, task, run)\n",
    "# (fpaths, subs, tasks, runs) = get_fpaths(BIDS_ROOT)"
   ]
  },
  {
   "cell_type": "code",
   "execution_count": 20,
   "id": "c41a9459",
   "metadata": {},
   "outputs": [
    {
     "name": "stdout",
     "output_type": "stream",
     "text": [
      "Reading /Users/nusbaumlab/src/pitch_tracking/analysis/../data/bids/derivatives/preprocessing/sub-2/sub-2_task-pitch_run-1_desc-clean_epo.fif.gz ...\n"
     ]
    },
    {
     "name": "stderr",
     "output_type": "stream",
     "text": [
      "/Users/nusbaumlab/opt/anaconda3/envs/pitch-tracking/lib/python3.10/site-packages/bids/layout/validation.py:149: UserWarning: The PipelineDescription field was superseded by GeneratedBy in BIDS 1.4.0. You can use ``pybids upgrade`` to update your derivative dataset.\n",
      "  warnings.warn(\"The PipelineDescription field was superseded \"\n"
     ]
    },
    {
     "name": "stdout",
     "output_type": "stream",
     "text": [
      "    Found the data of interest:\n",
      "        t =    -200.00 ...     250.00 ms\n",
      "        0 CTF compensation matrices available\n",
      "Not setting metadata\n",
      "Not setting metadata\n",
      "4553 matching events found\n",
      "No baseline correction applied\n",
      "0 projection items activated\n",
      "Not setting metadata\n",
      "Reading /Users/nusbaumlab/src/pitch_tracking/analysis/../data/bids/derivatives/preprocessing/sub-3/sub-3_task-pitch_run-1_desc-clean_epo.fif.gz ...\n",
      "    Found the data of interest:\n",
      "        t =    -200.00 ...     250.00 ms\n",
      "        0 CTF compensation matrices available\n",
      "Not setting metadata\n",
      "Not setting metadata\n",
      "2333 matching events found\n",
      "No baseline correction applied\n",
      "0 projection items activated\n",
      "Not setting metadata\n",
      "Reading /Users/nusbaumlab/src/pitch_tracking/analysis/../data/bids/derivatives/preprocessing/sub-3/sub-3_task-pitch_run-2_desc-clean_epo.fif.gz ...\n",
      "    Found the data of interest:\n",
      "        t =    -200.00 ...     250.00 ms\n",
      "        0 CTF compensation matrices available\n",
      "Not setting metadata\n",
      "Not setting metadata\n",
      "2327 matching events found\n",
      "No baseline correction applied\n",
      "0 projection items activated\n",
      "Not setting metadata\n",
      "Reading /Users/nusbaumlab/src/pitch_tracking/analysis/../data/bids/derivatives/preprocessing/sub-4/sub-4_task-pitch_run-1_desc-clean_epo.fif.gz ...\n",
      "    Found the data of interest:\n",
      "        t =    -200.00 ...     250.00 ms\n",
      "        0 CTF compensation matrices available\n",
      "Not setting metadata\n",
      "Not setting metadata\n",
      "2417 matching events found\n",
      "No baseline correction applied\n",
      "0 projection items activated\n",
      "Not setting metadata\n",
      "Reading /Users/nusbaumlab/src/pitch_tracking/analysis/../data/bids/derivatives/preprocessing/sub-4/sub-4_task-pitch_run-2_desc-clean_epo.fif.gz ...\n",
      "    Found the data of interest:\n",
      "        t =    -200.00 ...     250.00 ms\n",
      "        0 CTF compensation matrices available\n",
      "Not setting metadata\n",
      "Not setting metadata\n",
      "1921 matching events found\n",
      "No baseline correction applied\n",
      "0 projection items activated\n",
      "Not setting metadata\n",
      "Reading /Users/nusbaumlab/src/pitch_tracking/analysis/../data/bids/derivatives/preprocessing/sub-5/sub-5_task-pitch_run-1_desc-clean_epo.fif.gz ...\n",
      "    Found the data of interest:\n",
      "        t =    -200.00 ...     250.00 ms\n",
      "        0 CTF compensation matrices available\n",
      "Not setting metadata\n",
      "Not setting metadata\n",
      "4730 matching events found\n",
      "No baseline correction applied\n",
      "0 projection items activated\n",
      "Not setting metadata\n",
      "Reading /Users/nusbaumlab/src/pitch_tracking/analysis/../data/bids/derivatives/preprocessing/sub-6/sub-6_task-pitch_run-1_desc-clean_epo.fif.gz ...\n",
      "    Found the data of interest:\n",
      "        t =    -200.00 ...     250.00 ms\n",
      "        0 CTF compensation matrices available\n",
      "Not setting metadata\n",
      "Not setting metadata\n",
      "4774 matching events found\n",
      "No baseline correction applied\n",
      "0 projection items activated\n",
      "Not setting metadata\n"
     ]
    }
   ],
   "source": [
    "# (fpaths, subjects, tasks, runs) = get_fpaths(BIDS_ROOT)\n",
    "\n",
    "powers = []\n",
    "events = []\n",
    "for (fpath, sub, task, run) in get_fpaths(BIDS_ROOT):\n",
    "    epochs = load_fif(fpath)\n",
    "    epochs = epochs.crop(tmin = 0)\n",
    "    events.append(mne.read_events(fpath))\n",
    "    power = get_power_at_stim_freqs(epochs, STIM_FREQS)\n",
    "    log_power = np.log10(power)\n",
    "    powers.append(log_power)"
   ]
  },
  {
   "cell_type": "code",
   "execution_count": 27,
   "id": "e89cb324",
   "metadata": {},
   "outputs": [
    {
     "name": "stdout",
     "output_type": "stream",
     "text": [
      "(4553, 62, 5, 167)\n",
      "(2333, 62, 5, 167)\n",
      "(2327, 62, 5, 167)\n",
      "(2417, 61, 5, 167)\n",
      "(1921, 61, 5, 167)\n",
      "(4730, 62, 5, 167)\n",
      "(4774, 62, 5, 167)\n",
      "(4553, 62, 5, 167)\n",
      "(4553, 62, 5, 167)\n"
     ]
    },
    {
     "data": {
      "text/plain": [
       "9"
      ]
     },
     "execution_count": 27,
     "metadata": {},
     "output_type": "execute_result"
    }
   ],
   "source": [
    "# power = powers[0]\n",
    "# power.plot()\n",
    "for i in range(len(powers)):\n",
    "    print(np.shape(powers[i]))\n",
    "# np.shape(powers[])\n",
    "# np.shape(powers[1])\n",
    "len(powers)"
   ]
  },
  {
   "cell_type": "code",
   "execution_count": 15,
   "id": "9b01ceb2",
   "metadata": {},
   "outputs": [
    {
     "data": {
      "text/plain": [
       "(4774, 3)"
      ]
     },
     "execution_count": 15,
     "metadata": {},
     "output_type": "execute_result"
    }
   ],
   "source": [
    "# np.shape(events)"
   ]
  },
  {
   "cell_type": "code",
   "execution_count": 4,
   "id": "29c5d795",
   "metadata": {},
   "outputs": [
    {
     "name": "stdout",
     "output_type": "stream",
     "text": [
      "/Users/nusbaumlab/src/pitch_tracking/analysis/../data/bids/derivatives/preprocessing/sub-2/sub-2_task-pitch_run-1_desc-clean_epo.fif.gz 2 tasks 1\n",
      "/Users/nusbaumlab/src/pitch_tracking/analysis/../data/bids/derivatives/preprocessing/sub-3/sub-3_task-pitch_run-1_desc-clean_epo.fif.gz 3 tasks 1\n",
      "/Users/nusbaumlab/src/pitch_tracking/analysis/../data/bids/derivatives/preprocessing/sub-3/sub-3_task-pitch_run-2_desc-clean_epo.fif.gz 3 tasks 2\n",
      "/Users/nusbaumlab/src/pitch_tracking/analysis/../data/bids/derivatives/preprocessing/sub-4/sub-4_task-pitch_run-1_desc-clean_epo.fif.gz 4 tasks 1\n",
      "/Users/nusbaumlab/src/pitch_tracking/analysis/../data/bids/derivatives/preprocessing/sub-4/sub-4_task-pitch_run-2_desc-clean_epo.fif.gz 4 tasks 2\n",
      "/Users/nusbaumlab/src/pitch_tracking/analysis/../data/bids/derivatives/preprocessing/sub-5/sub-5_task-pitch_run-1_desc-clean_epo.fif.gz 5 tasks 1\n",
      "/Users/nusbaumlab/src/pitch_tracking/analysis/../data/bids/derivatives/preprocessing/sub-6/sub-6_task-pitch_run-1_desc-clean_epo.fif.gz 6 tasks 1\n"
     ]
    },
    {
     "name": "stderr",
     "output_type": "stream",
     "text": [
      "/Users/nusbaumlab/opt/anaconda3/envs/pitch-tracking/lib/python3.10/site-packages/bids/layout/validation.py:149: UserWarning: The PipelineDescription field was superseded by GeneratedBy in BIDS 1.4.0. You can use ``pybids upgrade`` to update your derivative dataset.\n",
      "  warnings.warn(\"The PipelineDescription field was superseded \"\n"
     ]
    }
   ],
   "source": [
    "# # layout = BIDSLayout(BIDS_ROOT, derivatives = True)\n",
    "# # runs = layout.get_runs()\n",
    "# for (fpath, sub, task, run) in get_fpaths(BIDS_ROOT):\n",
    "#     print(fpath, sub, task, run)\n",
    "# # (fpaths, subs, tasks, runs) = get_fpaths(BIDS_ROOT)"
   ]
  },
  {
   "cell_type": "code",
   "execution_count": null,
   "id": "5620cd7b",
   "metadata": {},
   "outputs": [],
   "source": [
    "# import re\n",
    "# import itertools\n",
    "# layout = BIDSLayout(BIDS_ROOT, derivatives = True)\n",
    "# fpaths = layout.get(scope = 'preprocessing',\n",
    "#                     extension = 'fif.gz',\n",
    "#                     return_type = 'filename')\n",
    "# filter_runs = re.compile('run-(\\d)')\n",
    "# runs = list(map(filter_runs.findall, fpaths))\n",
    "# runs = list(itertools.chain(*runs))\n",
    "# runs\n",
    "tup = ([1, 2, 3], [4, 5, 6])\n",
    "for i"
   ]
  },
  {
   "cell_type": "code",
   "execution_count": null,
   "id": "659f24ba",
   "metadata": {},
   "outputs": [
    {
     "name": "stdout",
     "output_type": "stream",
     "text": [
      "Reading /Users/nusbaumlab/src/pitch_tracking/analysis/../data/bids/derivatives/preprocessing/sub-2/sub-2_task-pitch_run-1_desc-clean_epo.fif.gz ...\n"
     ]
    },
    {
     "name": "stderr",
     "output_type": "stream",
     "text": [
      "/Users/nusbaumlab/opt/anaconda3/envs/pitch-tracking/lib/python3.10/site-packages/bids/layout/validation.py:149: UserWarning: The PipelineDescription field was superseded by GeneratedBy in BIDS 1.4.0. You can use ``pybids upgrade`` to update your derivative dataset.\n",
      "  warnings.warn(\"The PipelineDescription field was superseded \"\n"
     ]
    },
    {
     "name": "stdout",
     "output_type": "stream",
     "text": [
      "    Found the data of interest:\n",
      "        t =    -200.00 ...     250.00 ms\n",
      "        0 CTF compensation matrices available\n",
      "Not setting metadata\n",
      "Not setting metadata\n",
      "4553 matching events found\n",
      "No baseline correction applied\n",
      "0 projection items activated\n",
      "Getting power\n"
     ]
    }
   ],
   "source": [
    "for (fpath, sub, task, run) in get_fpaths(BIDS_ROOT):\n",
    "    epochs = load_fif(fpath)\n",
    "    epochs = epochs.crop(tmin = 0)\n",
    "    n_cycles = STIM_FREQS / 7.  # different number of cycle per frequency\n",
    "    print(\"Getting power\")\n",
    "    avg_power = tfr_morlet(epochs, \n",
    "                       freqs = STIM_FREQS, \n",
    "                       n_cycles = n_cycles, \n",
    "                       use_fft = True,\n",
    "                       return_itc = True, \n",
    "                       decim = 3, \n",
    "                       n_jobs = 1,\n",
    "                       average = False,\n",
    "                       verbose = True)\n",
    "    avg_log_power = np.log10(avg_power)\n",
    "    break\n",
    "\n",
    "\n",
    "# power.plot_topo(baseline=(-0.5, 0), title='Average power')\n",
    "# power.plot([82], baseline=(-0.5, 0), mode='logratio', title=power.ch_names[82])"
   ]
  }
 ],
 "metadata": {
  "kernelspec": {
   "display_name": "Python 3 (ipykernel)",
   "language": "python",
   "name": "python3"
  },
  "language_info": {
   "codemirror_mode": {
    "name": "ipython",
    "version": 3
   },
   "file_extension": ".py",
   "mimetype": "text/x-python",
   "name": "python",
   "nbconvert_exporter": "python",
   "pygments_lexer": "ipython3",
   "version": "3.10.2"
  }
 },
 "nbformat": 4,
 "nbformat_minor": 5
}
