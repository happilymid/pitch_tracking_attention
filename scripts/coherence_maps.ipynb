{
 "cells": [
  {
   "cell_type": "code",
   "execution_count": 93,
   "id": "655baee6",
   "metadata": {},
   "outputs": [],
   "source": [
    "import glob\n",
    "import re\n",
    "import mne\n",
    "import itertools\n",
    "import numpy as np\n",
    "import matplotlib.pyplot as plt"
   ]
  },
  {
   "cell_type": "code",
   "execution_count": 115,
   "id": "82f2a3dd",
   "metadata": {},
   "outputs": [],
   "source": [
    "N_CHANS = 62\n",
    "FS = 5000"
   ]
  },
  {
   "cell_type": "code",
   "execution_count": null,
   "id": "55c79133",
   "metadata": {},
   "outputs": [
    {
     "name": "stdout",
     "output_type": "stream",
     "text": [
      "Reading /project2/hcn1/pitch_tracking/scripts/../data/bids/derivatives/preprocessing/sub-43/sub-43_task-pitch_run-1_res-hi_desc-clean_epo.fif-1.gz ...\n"
     ]
    },
    {
     "name": "stderr",
     "output_type": "stream",
     "text": [
      "/tmp/ipykernel_10485/2372708796.py:26: RuntimeWarning: This filename (../data/bids/derivatives/preprocessing/sub-43/sub-43_task-pitch_run-1_res-hi_desc-clean_epo.fif-1.gz) does not conform to MNE naming conventions. All epochs files should end with -epo.fif, -epo.fif.gz, _epo.fif or _epo.fif.gz\n",
      "  epochs = mne.read_epochs(epoch_fpath, preload = False)\n"
     ]
    },
    {
     "name": "stdout",
     "output_type": "stream",
     "text": [
      "    Found the data of interest:\n",
      "        t =    -200.00 ...     250.00 ms\n",
      "        0 CTF compensation matrices available\n"
     ]
    }
   ],
   "source": [
    "epochs_path = glob.glob('../data/bids/derivatives/preprocessing/*/*res-hi*')\n",
    "pattern = re.compile('sub-(\\d{1,2})_')\n",
    "epoch_sub_order = list(map(pattern.findall, epochs_path))\n",
    "epoch_sub_order = list(itertools.chain(*epoch_sub_order))\n",
    "\n",
    "captrak_path = glob.glob('../data/captrak/*.bvct')\n",
    "# pattern = re.compile('subj-(\\d{1,2})')\n",
    "# captrak_sub_order = list(map(pattern.findall, captrak_path))\n",
    "# captrak_sub_order = list(itertools.chain(*captrak_sub_order))\n",
    "\n",
    "# n_subs = len(captrak_path)\n",
    "# poss = np.empty([n_subs, N_CHANS, 3])\n",
    "poss = []\n",
    "# for each captrak file\n",
    "for file in captrak_path:\n",
    "    # get subject\n",
    "    pattern = re.compile('subj-(\\d{1,2})')\n",
    "    sub = pattern.findall(fpath)[0]\n",
    "    \n",
    "    # get corresponding captrak file\n",
    "    dig = mne.channels.read_dig_captrak(fname = file)\n",
    "    \n",
    "    # load their epochs object\n",
    "    ind = epoch_sub_order.index('43')\n",
    "    epoch_fpath = epochs_path[ind]\n",
    "    epochs = mne.read_epochs(epoch_fpath, preload = False)\n",
    "\n",
    "    # get coordinates\n",
    "    ch_names = epochs.ch_names\n",
    "    if len(ch_names) != N_CHANS:\n",
    "        print(f\"Incorrect number of channels, skipping subjet {sub}\")\n",
    "        continue\n",
    "    pos = np.stack([dig.get_positions()['ch_pos'][ch] for ch in ch_names])\n",
    "    poss = [poss, pos]\n",
    "    \n",
    "# Plot mean coordinates\n",
    "# rng = np.random.RandomState(0)\n",
    "# data = rng.normal(size=(N_CHANS, 1)) * 1e-6\n",
    "# fake_evoked = mne.EvokedArray(data, epoch.info)\n",
    "# fake_evoked.set_montage(dig)\n",
    "# fake_evoked.plot_sensors()\n",
    "    "
   ]
  },
  {
   "cell_type": "code",
   "execution_count": 114,
   "id": "4201b6fa",
   "metadata": {},
   "outputs": [
    {
     "data": {
      "text/plain": [
       "24"
      ]
     },
     "execution_count": 114,
     "metadata": {},
     "output_type": "execute_result"
    }
   ],
   "source": [
    "epoch_sub_order.index('43')"
   ]
  },
  {
   "cell_type": "code",
   "execution_count": 4,
   "id": "3f8d1e3c",
   "metadata": {},
   "outputs": [
    {
     "name": "stdout",
     "output_type": "stream",
     "text": [
      "../data/bids/derivatives/preprocessing/sub-9/sub-9_task-pitch_run-1_res-lo_desc-clean_epo.fif.gz\n",
      "../data/bids/derivatives/preprocessing/sub-9/sub-9_task-pitch_run-1_res-hi_desc-clean_epo.fif.gz\n"
     ]
    }
   ],
   "source": [
    "path = '../data/bids/derivatives/preprocessing/sub-9/*'\n",
    "for fpath in glob.glob(path):\n",
    "    print(fpath)\n",
    "\n",
    "# epochs = mne.read_epochs(FPATH, preload = True)\n",
    "# events = epochs.events\n",
    "# n_epochs = len(events)\n",
    "\n",
    "# for file in epochs_path:\n",
    "#     captrak_path = \n",
    "# # print(sorted(epochs_path))\n",
    "# # print(sorted(captrak_path))\n",
    "# epochs_path\n",
    "\n",
    "\n",
    "# for file in epochs"
   ]
  },
  {
   "cell_type": "code",
   "execution_count": 7,
   "id": "4d6e1960",
   "metadata": {},
   "outputs": [
    {
     "name": "stdout",
     "output_type": "stream",
     "text": [
      "Reading /project2/hcn1/pitch_tracking/scripts/../data/bids/derivatives/preprocessing/sub-9/sub-9_task-pitch_run-1_res-hi_desc-clean_epo.fif.gz ...\n",
      "    Found the data of interest:\n",
      "        t =    -200.00 ...     250.00 ms\n",
      "        0 CTF compensation matrices available\n",
      "Not setting metadata\n",
      "1922 matching events found\n",
      "No baseline correction applied\n",
      "0 projection items activated\n"
     ]
    }
   ],
   "source": [
    "fpath = '../data/bids/derivatives/preprocessing/sub-9/sub-9_task-pitch_run-1_res-hi_desc-clean_epo.fif.gz'\n",
    "epochs = mne.read_epochs(fpath, preload = False)"
   ]
  },
  {
   "cell_type": "code",
   "execution_count": 100,
   "id": "b796a986",
   "metadata": {},
   "outputs": [],
   "source": [
    "captrak_fpath = '../data/captrak/subj-9.bvct'\n",
    "dig = mne.channels.read_dig_captrak(fname = captrak_fpath)\n",
    "ch_names = epochs.ch_names\n",
    "pos = np.stack([dig.get_positions()['ch_pos'][ch] for ch in ch_names])"
   ]
  },
  {
   "cell_type": "code",
   "execution_count": 28,
   "id": "2953d043",
   "metadata": {},
   "outputs": [],
   "source": [
    "# T7_index = ch_names.index('T7')\n",
    "# T8_index = ch_names.index('T8')\n",
    "# radius = np.abs(pos[[T7_index, T8_index], 0]).mean()"
   ]
  },
  {
   "cell_type": "code",
   "execution_count": 105,
   "id": "954b95cc",
   "metadata": {},
   "outputs": [
    {
     "ename": "ValueError",
     "evalue": "DigMontage is only a subset of info. There are 62 channel positions not present in the DigMontage. The required channels are:\n\n['0', '1', '2', '3', '4', '5', '6', '7', '8', '9', '10', '11', '12', '13', '14', '15', '16', '17', '18', '19', '20', '21', '22', '23', '24', '25', '26', '27', '28', '29', '30', '31', '32', '33', '34', '35', '36', '37', '38', '39', '40', '41', '42', '43', '44', '45', '46', '47', '48', '49', '50', '51', '52', '53', '54', '55', '56', '57', '58', '59', '60', '61'].\n\nConsider using inst.set_channel_types if these are not EEG channels, or use the on_missing parameter if the channel positions are allowed to be unknown in your analyses.",
     "output_type": "error",
     "traceback": [
      "\u001b[0;31m---------------------------------------------------------------------------\u001b[0m",
      "\u001b[0;31mValueError\u001b[0m                                Traceback (most recent call last)",
      "Input \u001b[0;32mIn [105]\u001b[0m, in \u001b[0;36m<cell line: 7>\u001b[0;34m()\u001b[0m\n\u001b[1;32m      5\u001b[0m info \u001b[38;5;241m=\u001b[39m mne\u001b[38;5;241m.\u001b[39mcreate_info(\u001b[38;5;241m62\u001b[39m, \u001b[38;5;241m5000\u001b[39m, ch_types \u001b[38;5;241m=\u001b[39m \u001b[38;5;124m'\u001b[39m\u001b[38;5;124meeg\u001b[39m\u001b[38;5;124m'\u001b[39m)\n\u001b[1;32m      6\u001b[0m fake_evoked \u001b[38;5;241m=\u001b[39m mne\u001b[38;5;241m.\u001b[39mEvokedArray(data, info)\n\u001b[0;32m----> 7\u001b[0m \u001b[43mfake_evoked\u001b[49m\u001b[38;5;241;43m.\u001b[39;49m\u001b[43mset_montage\u001b[49m\u001b[43m(\u001b[49m\u001b[43mdig\u001b[49m\u001b[43m)\u001b[49m\n\u001b[1;32m      8\u001b[0m fake_evoked\u001b[38;5;241m.\u001b[39mplot_sensors()\n",
      "File \u001b[0;32m<decorator-gen-28>:12\u001b[0m, in \u001b[0;36mset_montage\u001b[0;34m(self, montage, match_case, match_alias, on_missing, verbose)\u001b[0m\n",
      "File \u001b[0;32m~/.conda/envs/pitch-tracking/lib/python3.10/site-packages/mne/io/meas_info.py:225\u001b[0m, in \u001b[0;36mMontageMixin.set_montage\u001b[0;34m(self, montage, match_case, match_alias, on_missing, verbose)\u001b[0m\n\u001b[1;32m    223\u001b[0m \u001b[38;5;28;01mfrom\u001b[39;00m \u001b[38;5;21;01m.\u001b[39;00m\u001b[38;5;21;01m.\u001b[39;00m\u001b[38;5;21;01mchannels\u001b[39;00m\u001b[38;5;21;01m.\u001b[39;00m\u001b[38;5;21;01mmontage\u001b[39;00m \u001b[38;5;28;01mimport\u001b[39;00m _set_montage\n\u001b[1;32m    224\u001b[0m info \u001b[38;5;241m=\u001b[39m \u001b[38;5;28mself\u001b[39m \u001b[38;5;28;01mif\u001b[39;00m \u001b[38;5;28misinstance\u001b[39m(\u001b[38;5;28mself\u001b[39m, Info) \u001b[38;5;28;01melse\u001b[39;00m \u001b[38;5;28mself\u001b[39m\u001b[38;5;241m.\u001b[39minfo\n\u001b[0;32m--> 225\u001b[0m \u001b[43m_set_montage\u001b[49m\u001b[43m(\u001b[49m\u001b[43minfo\u001b[49m\u001b[43m,\u001b[49m\u001b[43m \u001b[49m\u001b[43mmontage\u001b[49m\u001b[43m,\u001b[49m\u001b[43m \u001b[49m\u001b[43mmatch_case\u001b[49m\u001b[43m,\u001b[49m\u001b[43m \u001b[49m\u001b[43mmatch_alias\u001b[49m\u001b[43m,\u001b[49m\u001b[43m \u001b[49m\u001b[43mon_missing\u001b[49m\u001b[43m)\u001b[49m\n\u001b[1;32m    226\u001b[0m \u001b[38;5;28;01mreturn\u001b[39;00m \u001b[38;5;28mself\u001b[39m\n",
      "File \u001b[0;32m~/.conda/envs/pitch-tracking/lib/python3.10/site-packages/mne/channels/montage.py:1035\u001b[0m, in \u001b[0;36m_set_montage\u001b[0;34m(***failed resolving arguments***)\u001b[0m\n\u001b[1;32m   1025\u001b[0m missing_names \u001b[38;5;241m=\u001b[39m [info_names[ii] \u001b[38;5;28;01mfor\u001b[39;00m ii \u001b[38;5;129;01min\u001b[39;00m missing]\n\u001b[1;32m   1026\u001b[0m missing_coord_msg \u001b[38;5;241m=\u001b[39m (\n\u001b[1;32m   1027\u001b[0m     \u001b[38;5;124m'\u001b[39m\u001b[38;5;124mDigMontage is only a subset of info. There are \u001b[39m\u001b[38;5;124m'\u001b[39m\n\u001b[1;32m   1028\u001b[0m     \u001b[38;5;124mf\u001b[39m\u001b[38;5;124m'\u001b[39m\u001b[38;5;132;01m{\u001b[39;00m\u001b[38;5;28mlen\u001b[39m(missing)\u001b[38;5;132;01m}\u001b[39;00m\u001b[38;5;124m channel position\u001b[39m\u001b[38;5;132;01m{\u001b[39;00m_pl(missing)\u001b[38;5;132;01m}\u001b[39;00m\u001b[38;5;124m \u001b[39m\u001b[38;5;124m'\u001b[39m\n\u001b[0;32m   (...)\u001b[0m\n\u001b[1;32m   1033\u001b[0m     \u001b[38;5;124m'\u001b[39m\u001b[38;5;124min your analyses.\u001b[39m\u001b[38;5;124m'\u001b[39m\n\u001b[1;32m   1034\u001b[0m )\n\u001b[0;32m-> 1035\u001b[0m \u001b[43m_on_missing\u001b[49m\u001b[43m(\u001b[49m\u001b[43mon_missing\u001b[49m\u001b[43m,\u001b[49m\u001b[43m \u001b[49m\u001b[43mmissing_coord_msg\u001b[49m\u001b[43m)\u001b[49m\n\u001b[1;32m   1037\u001b[0m \u001b[38;5;66;03m# set ch coordinates and names from digmontage or nan coords\u001b[39;00m\n\u001b[1;32m   1038\u001b[0m \u001b[38;5;28;01mfor\u001b[39;00m ii \u001b[38;5;129;01min\u001b[39;00m missing:\n",
      "File \u001b[0;32m~/.conda/envs/pitch-tracking/lib/python3.10/site-packages/mne/utils/check.py:872\u001b[0m, in \u001b[0;36m_on_missing\u001b[0;34m(on_missing, msg, name, error_klass)\u001b[0m\n\u001b[1;32m    870\u001b[0m on_missing \u001b[38;5;241m=\u001b[39m \u001b[38;5;124m'\u001b[39m\u001b[38;5;124mwarn\u001b[39m\u001b[38;5;124m'\u001b[39m \u001b[38;5;28;01mif\u001b[39;00m on_missing \u001b[38;5;241m==\u001b[39m \u001b[38;5;124m'\u001b[39m\u001b[38;5;124mwarning\u001b[39m\u001b[38;5;124m'\u001b[39m \u001b[38;5;28;01melse\u001b[39;00m on_missing\n\u001b[1;32m    871\u001b[0m \u001b[38;5;28;01mif\u001b[39;00m on_missing \u001b[38;5;241m==\u001b[39m \u001b[38;5;124m'\u001b[39m\u001b[38;5;124mraise\u001b[39m\u001b[38;5;124m'\u001b[39m:\n\u001b[0;32m--> 872\u001b[0m     \u001b[38;5;28;01mraise\u001b[39;00m error_klass(msg)\n\u001b[1;32m    873\u001b[0m \u001b[38;5;28;01melif\u001b[39;00m on_missing \u001b[38;5;241m==\u001b[39m \u001b[38;5;124m'\u001b[39m\u001b[38;5;124mwarn\u001b[39m\u001b[38;5;124m'\u001b[39m:\n\u001b[1;32m    874\u001b[0m     warn(msg)\n",
      "\u001b[0;31mValueError\u001b[0m: DigMontage is only a subset of info. There are 62 channel positions not present in the DigMontage. The required channels are:\n\n['0', '1', '2', '3', '4', '5', '6', '7', '8', '9', '10', '11', '12', '13', '14', '15', '16', '17', '18', '19', '20', '21', '22', '23', '24', '25', '26', '27', '28', '29', '30', '31', '32', '33', '34', '35', '36', '37', '38', '39', '40', '41', '42', '43', '44', '45', '46', '47', '48', '49', '50', '51', '52', '53', '54', '55', '56', '57', '58', '59', '60', '61'].\n\nConsider using inst.set_channel_types if these are not EEG channels, or use the on_missing parameter if the channel positions are allowed to be unknown in your analyses."
     ]
    }
   ],
   "source": [
    "n_channels = 62\n",
    "n_samples = 1\n",
    "rng = np.random.RandomState(0)\n",
    "data = rng.normal(size=(n_channels, 1)) * 1e-6\n",
    "# info = mne.create_info(62, 5000, ch_types = 'eeg')\n",
    "fake_evoked = mne.EvokedArray(data, epoch.info)\n",
    "fake_evoked.set_montage(dig)\n",
    "fake_evoked.plot_sensors()"
   ]
  },
  {
   "cell_type": "code",
   "execution_count": 102,
   "id": "5f7088b4",
   "metadata": {},
   "outputs": [
    {
     "data": {
      "text/html": [
       "<table class=\"table table-hover table-striped table-sm table-responsive small\">\n",
       "    <tr>\n",
       "        <th>Measurement date</th>\n",
       "        \n",
       "        <td>Unknown</td>\n",
       "        \n",
       "    </tr>\n",
       "    <tr>\n",
       "        <th>Experimenter</th>\n",
       "        \n",
       "        <td>Unknown</td>\n",
       "        \n",
       "    </tr>\n",
       "        <th>Participant</th>\n",
       "        \n",
       "        <td>Unknown</td>\n",
       "        \n",
       "    </tr>\n",
       "    <tr>\n",
       "        <th>Digitized points</th>\n",
       "        \n",
       "        <td>0 points</td>\n",
       "        \n",
       "    </tr>\n",
       "    <tr>\n",
       "        <th>Good channels</th>\n",
       "        <td>62 misc</td>\n",
       "    </tr>\n",
       "    <tr>\n",
       "        <th>Bad channels</th>\n",
       "        <td>None</td>\n",
       "    </tr>\n",
       "    <tr>\n",
       "        <th>EOG channels</th>\n",
       "        <td>Not available</td>\n",
       "    </tr>\n",
       "    <tr>\n",
       "        <th>ECG channels</th>\n",
       "        <td>Not available</td>\n",
       "    \n",
       "    <tr>\n",
       "        <th>Sampling frequency</th>\n",
       "        <td>5000.00 Hz</td>\n",
       "    </tr>\n",
       "    \n",
       "    \n",
       "    <tr>\n",
       "        <th>Highpass</th>\n",
       "        <td>0.00 Hz</td>\n",
       "    </tr>\n",
       "    \n",
       "    \n",
       "    <tr>\n",
       "        <th>Lowpass</th>\n",
       "        <td>2500.00 Hz</td>\n",
       "    </tr>\n",
       "    \n",
       "    \n",
       "</table>"
      ],
      "text/plain": [
       "<Info | 8 non-empty values\n",
       " bads: []\n",
       " ch_names: 0, 1, 2, 3, 4, 5, 6, 7, 8, 9, 10, 11, 12, 13, 14, 15, 16, 17, ...\n",
       " chs: 62 misc\n",
       " custom_ref_applied: False\n",
       " dig: 3 items (3 Cardinal)\n",
       " highpass: 0.0 Hz\n",
       " lowpass: 2500.0 Hz\n",
       " meas_date: unspecified\n",
       " nchan: 62\n",
       " projs: []\n",
       " sfreq: 5000.0 Hz\n",
       ">"
      ]
     },
     "execution_count": 102,
     "metadata": {},
     "output_type": "execute_result"
    }
   ],
   "source": [
    "fake_evoked.info"
   ]
  },
  {
   "cell_type": "code",
   "execution_count": null,
   "id": "715ba489",
   "metadata": {},
   "outputs": [],
   "source": []
  }
 ],
 "metadata": {
  "kernelspec": {
   "display_name": "Python 3 (ipykernel)",
   "language": "python",
   "name": "python3"
  },
  "language_info": {
   "codemirror_mode": {
    "name": "ipython",
    "version": 3
   },
   "file_extension": ".py",
   "mimetype": "text/x-python",
   "name": "python",
   "nbconvert_exporter": "python",
   "pygments_lexer": "ipython3",
   "version": "3.10.4"
  }
 },
 "nbformat": 4,
 "nbformat_minor": 5
}
