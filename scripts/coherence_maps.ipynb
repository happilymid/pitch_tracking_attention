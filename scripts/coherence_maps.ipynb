{
 "cells": [
  {
   "cell_type": "code",
   "execution_count": 168,
   "id": "4132c6b0",
   "metadata": {},
   "outputs": [],
   "source": [
    "import glob\n",
    "import re\n",
    "import mne\n",
    "import itertools\n",
    "import numpy as np\n",
    "import matplotlib.pyplot as plt\n",
    "import pandas as pd\n",
    "import seaborn as sns"
   ]
  },
  {
   "cell_type": "code",
   "execution_count": 2,
   "id": "7f765c7b",
   "metadata": {},
   "outputs": [],
   "source": [
    "N_CHANS = 62"
   ]
  },
  {
   "cell_type": "markdown",
   "id": "85ca4bce",
   "metadata": {},
   "source": [
    "## Channel coordinates"
   ]
  },
  {
   "cell_type": "code",
   "execution_count": 79,
   "id": "facc799a",
   "metadata": {},
   "outputs": [
    {
     "name": "stdout",
     "output_type": "stream",
     "text": [
      "Reading captrak file: ../data/captrak/subj-43.bvct\n",
      "Reading info from epoch file: ../data/bids/derivatives/preprocessing/sub-43/sub-43_task-pitch_run-1_res-hi_desc-clean_epo.fif.gz\n",
      "(62, 3, 1)\n",
      "Reading captrak file: ../data/captrak/subj-9.bvct\n",
      "Reading info from epoch file: ../data/bids/derivatives/preprocessing/sub-43/sub-43_task-pitch_run-1_res-hi_desc-clean_epo.fif.gz\n",
      "(62, 3, 2)\n",
      "Reading captrak file: ../data/captrak/subj-6.bvct\n",
      "Reading info from epoch file: ../data/bids/derivatives/preprocessing/sub-43/sub-43_task-pitch_run-1_res-hi_desc-clean_epo.fif.gz\n",
      "KeyError: ../data/captrak/subj-6.bvct is incomplete, likely missing FCz, skipping subject 6!\n",
      "Reading captrak file: ../data/captrak/subj-2.bvct\n",
      "Reading info from epoch file: ../data/bids/derivatives/preprocessing/sub-43/sub-43_task-pitch_run-1_res-hi_desc-clean_epo.fif.gz\n",
      "KeyError: ../data/captrak/subj-2.bvct is incomplete, likely missing FCz, skipping subject 2!\n",
      "Reading captrak file: ../data/captrak/subj-12.bvct\n",
      "Reading info from epoch file: ../data/bids/derivatives/preprocessing/sub-43/sub-43_task-pitch_run-1_res-hi_desc-clean_epo.fif.gz\n",
      "(62, 3, 3)\n",
      "Reading captrak file: ../data/captrak/subj-32.bvct\n",
      "Reading info from epoch file: ../data/bids/derivatives/preprocessing/sub-43/sub-43_task-pitch_run-1_res-hi_desc-clean_epo.fif.gz\n",
      "(62, 3, 4)\n",
      "Reading captrak file: ../data/captrak/subj-29.bvct\n",
      "Reading info from epoch file: ../data/bids/derivatives/preprocessing/sub-43/sub-43_task-pitch_run-1_res-hi_desc-clean_epo.fif.gz\n",
      "(62, 3, 5)\n",
      "Reading captrak file: ../data/captrak/subj-23.bvct\n",
      "Reading info from epoch file: ../data/bids/derivatives/preprocessing/sub-43/sub-43_task-pitch_run-1_res-hi_desc-clean_epo.fif.gz\n",
      "(62, 3, 6)\n",
      "Reading captrak file: ../data/captrak/subj-5.bvct\n",
      "Reading info from epoch file: ../data/bids/derivatives/preprocessing/sub-43/sub-43_task-pitch_run-1_res-hi_desc-clean_epo.fif.gz\n",
      "KeyError: ../data/captrak/subj-5.bvct is incomplete, likely missing FCz, skipping subject 5!\n",
      "Reading captrak file: ../data/captrak/subj-16.bvct\n",
      "Reading info from epoch file: ../data/bids/derivatives/preprocessing/sub-43/sub-43_task-pitch_run-1_res-hi_desc-clean_epo.fif.gz\n",
      "(62, 3, 7)\n",
      "Reading captrak file: ../data/captrak/subj-17.bvct\n",
      "Reading info from epoch file: ../data/bids/derivatives/preprocessing/sub-43/sub-43_task-pitch_run-1_res-hi_desc-clean_epo.fif.gz\n",
      "(62, 3, 8)\n",
      "Reading captrak file: ../data/captrak/subj-35.bvct\n",
      "Reading info from epoch file: ../data/bids/derivatives/preprocessing/sub-43/sub-43_task-pitch_run-1_res-hi_desc-clean_epo.fif.gz\n",
      "(62, 3, 9)\n",
      "Reading captrak file: ../data/captrak/subj-18.bvct\n",
      "Reading info from epoch file: ../data/bids/derivatives/preprocessing/sub-43/sub-43_task-pitch_run-1_res-hi_desc-clean_epo.fif.gz\n",
      "(62, 3, 10)\n",
      "Reading captrak file: ../data/captrak/subj-44.bvct\n",
      "Reading info from epoch file: ../data/bids/derivatives/preprocessing/sub-43/sub-43_task-pitch_run-1_res-hi_desc-clean_epo.fif.gz\n",
      "(62, 3, 11)\n",
      "Reading captrak file: ../data/captrak/subj-10.bvct\n",
      "Reading info from epoch file: ../data/bids/derivatives/preprocessing/sub-43/sub-43_task-pitch_run-1_res-hi_desc-clean_epo.fif.gz\n",
      "(62, 3, 12)\n",
      "Reading captrak file: ../data/captrak/subj-8.bvct\n",
      "Reading info from epoch file: ../data/bids/derivatives/preprocessing/sub-43/sub-43_task-pitch_run-1_res-hi_desc-clean_epo.fif.gz\n",
      "(62, 3, 13)\n",
      "Reading captrak file: ../data/captrak/subj-38.bvct\n",
      "Reading info from epoch file: ../data/bids/derivatives/preprocessing/sub-43/sub-43_task-pitch_run-1_res-hi_desc-clean_epo.fif.gz\n",
      "(62, 3, 14)\n",
      "Reading captrak file: ../data/captrak/subj-36.bvct\n",
      "Reading info from epoch file: ../data/bids/derivatives/preprocessing/sub-43/sub-43_task-pitch_run-1_res-hi_desc-clean_epo.fif.gz\n",
      "(62, 3, 15)\n",
      "Reading captrak file: ../data/captrak/subj-34.bvct\n",
      "Reading info from epoch file: ../data/bids/derivatives/preprocessing/sub-43/sub-43_task-pitch_run-1_res-hi_desc-clean_epo.fif.gz\n",
      "(62, 3, 16)\n",
      "Reading captrak file: ../data/captrak/subj-25.bvct\n",
      "Reading info from epoch file: ../data/bids/derivatives/preprocessing/sub-43/sub-43_task-pitch_run-1_res-hi_desc-clean_epo.fif.gz\n",
      "(62, 3, 17)\n",
      "Reading captrak file: ../data/captrak/subj-26.bvct\n",
      "Reading info from epoch file: ../data/bids/derivatives/preprocessing/sub-43/sub-43_task-pitch_run-1_res-hi_desc-clean_epo.fif.gz\n",
      "(62, 3, 18)\n",
      "Reading captrak file: ../data/captrak/subj-21.bvct\n",
      "Reading info from epoch file: ../data/bids/derivatives/preprocessing/sub-43/sub-43_task-pitch_run-1_res-hi_desc-clean_epo.fif.gz\n",
      "(62, 3, 19)\n",
      "Reading captrak file: ../data/captrak/subj-27.bvct\n",
      "Reading info from epoch file: ../data/bids/derivatives/preprocessing/sub-43/sub-43_task-pitch_run-1_res-hi_desc-clean_epo.fif.gz\n",
      "(62, 3, 20)\n",
      "Reading captrak file: ../data/captrak/subj-19.bvct\n",
      "Reading info from epoch file: ../data/bids/derivatives/preprocessing/sub-43/sub-43_task-pitch_run-1_res-hi_desc-clean_epo.fif.gz\n",
      "(62, 3, 21)\n",
      "Reading captrak file: ../data/captrak/subj-30.bvct\n",
      "Reading info from epoch file: ../data/bids/derivatives/preprocessing/sub-43/sub-43_task-pitch_run-1_res-hi_desc-clean_epo.fif.gz\n",
      "(62, 3, 22)\n",
      "Reading captrak file: ../data/captrak/subj-7.bvct\n",
      "Reading info from epoch file: ../data/bids/derivatives/preprocessing/sub-43/sub-43_task-pitch_run-1_res-hi_desc-clean_epo.fif.gz\n",
      "(62, 3, 23)\n",
      "Reading captrak file: ../data/captrak/subj-33.bvct\n",
      "Reading info from epoch file: ../data/bids/derivatives/preprocessing/sub-43/sub-43_task-pitch_run-1_res-hi_desc-clean_epo.fif.gz\n",
      "(62, 3, 24)\n",
      "Reading captrak file: ../data/captrak/subj-20.bvct\n",
      "Reading info from epoch file: ../data/bids/derivatives/preprocessing/sub-43/sub-43_task-pitch_run-1_res-hi_desc-clean_epo.fif.gz\n",
      "(62, 3, 25)\n",
      "Reading captrak file: ../data/captrak/subj-14.bvct\n",
      "Reading info from epoch file: ../data/bids/derivatives/preprocessing/sub-43/sub-43_task-pitch_run-1_res-hi_desc-clean_epo.fif.gz\n",
      "(62, 3, 26)\n",
      "Reading captrak file: ../data/captrak/subj-40.bvct\n",
      "Reading info from epoch file: ../data/bids/derivatives/preprocessing/sub-43/sub-43_task-pitch_run-1_res-hi_desc-clean_epo.fif.gz\n",
      "(62, 3, 27)\n",
      "Reading captrak file: ../data/captrak/subj-11.bvct\n",
      "Reading info from epoch file: ../data/bids/derivatives/preprocessing/sub-43/sub-43_task-pitch_run-1_res-hi_desc-clean_epo.fif.gz\n",
      "(62, 3, 28)\n",
      "Reading captrak file: ../data/captrak/subj-15.bvct\n",
      "Reading info from epoch file: ../data/bids/derivatives/preprocessing/sub-43/sub-43_task-pitch_run-1_res-hi_desc-clean_epo.fif.gz\n",
      "(62, 3, 29)\n",
      "Reading captrak file: ../data/captrak/subj-4.bvct\n",
      "Reading info from epoch file: ../data/bids/derivatives/preprocessing/sub-43/sub-43_task-pitch_run-1_res-hi_desc-clean_epo.fif.gz\n",
      "KeyError: ../data/captrak/subj-4.bvct is incomplete, likely missing FCz, skipping subject 4!\n",
      "Reading captrak file: ../data/captrak/subj-37.bvct\n",
      "Reading info from epoch file: ../data/bids/derivatives/preprocessing/sub-43/sub-43_task-pitch_run-1_res-hi_desc-clean_epo.fif.gz\n",
      "(62, 3, 30)\n",
      "Reading captrak file: ../data/captrak/subj-28.bvct\n",
      "Reading info from epoch file: ../data/bids/derivatives/preprocessing/sub-43/sub-43_task-pitch_run-1_res-hi_desc-clean_epo.fif.gz\n",
      "(62, 3, 31)\n",
      "Reading captrak file: ../data/captrak/subj-22.bvct\n",
      "Reading info from epoch file: ../data/bids/derivatives/preprocessing/sub-43/sub-43_task-pitch_run-1_res-hi_desc-clean_epo.fif.gz\n",
      "(62, 3, 32)\n",
      "Reading captrak file: ../data/captrak/subj-42.bvct\n",
      "Reading info from epoch file: ../data/bids/derivatives/preprocessing/sub-43/sub-43_task-pitch_run-1_res-hi_desc-clean_epo.fif.gz\n",
      "(62, 3, 33)\n",
      "Reading captrak file: ../data/captrak/subj-39.bvct\n",
      "Reading info from epoch file: ../data/bids/derivatives/preprocessing/sub-43/sub-43_task-pitch_run-1_res-hi_desc-clean_epo.fif.gz\n",
      "(62, 3, 34)\n",
      "Reading captrak file: ../data/captrak/subj-31.bvct\n",
      "Reading info from epoch file: ../data/bids/derivatives/preprocessing/sub-43/sub-43_task-pitch_run-1_res-hi_desc-clean_epo.fif.gz\n",
      "(62, 3, 35)\n",
      "Reading captrak file: ../data/captrak/subj-13.bvct\n",
      "Reading info from epoch file: ../data/bids/derivatives/preprocessing/sub-43/sub-43_task-pitch_run-1_res-hi_desc-clean_epo.fif.gz\n",
      "(62, 3, 36)\n",
      "Reading captrak file: ../data/captrak/subj-3.bvct\n",
      "Reading info from epoch file: ../data/bids/derivatives/preprocessing/sub-43/sub-43_task-pitch_run-1_res-hi_desc-clean_epo.fif.gz\n",
      "KeyError: ../data/captrak/subj-3.bvct is incomplete, likely missing FCz, skipping subject 3!\n",
      "Reading captrak file: ../data/captrak/subj-45.bvct\n",
      "Reading info from epoch file: ../data/bids/derivatives/preprocessing/sub-43/sub-43_task-pitch_run-1_res-hi_desc-clean_epo.fif.gz\n"
     ]
    },
    {
     "name": "stdout",
     "output_type": "stream",
     "text": [
      "(62, 3, 37)\n",
      "Reading captrak file: ../data/captrak/subj-24.bvct\n",
      "Reading info from epoch file: ../data/bids/derivatives/preprocessing/sub-43/sub-43_task-pitch_run-1_res-hi_desc-clean_epo.fif.gz\n",
      "(62, 3, 38)\n",
      "[[[-3.45798136e-02 -4.03329777e-02 -4.30959355e-02 ... -3.38404801e-02\n",
      "   -3.15622009e-02 -3.81488411e-02]\n",
      "  [ 9.76436831e-02  1.00070220e-01  1.06177751e-01 ...  1.13898279e-01\n",
      "    1.01428837e-01  1.03252436e-01]\n",
      "  [ 2.55071715e-02  7.17608909e-02  3.27082116e-02 ...  4.07238897e-02\n",
      "    3.11106588e-02  3.92783616e-02]]\n",
      "\n",
      " [[-2.60604497e-03 -1.35907475e-02 -1.82862447e-02 ... -3.65524191e-03\n",
      "   -1.76733731e-03 -1.04787079e-02]\n",
      "  [ 8.39821174e-02  6.51294294e-02  9.43831735e-02 ...  9.43655408e-02\n",
      "    9.49234204e-02  8.90886055e-02]\n",
      "  [ 9.54993767e-02  1.36424090e-01  1.04719675e-01 ...  1.16071909e-01\n",
      "    9.88697910e-02  1.09642013e-01]]\n",
      "\n",
      " [[-5.43411982e-02 -6.13528756e-02 -6.44515215e-02 ... -5.61891747e-02\n",
      "   -4.81835777e-02 -6.16971050e-02]\n",
      "  [ 7.32339505e-02  6.10997267e-02  8.08292353e-02 ...  8.87581114e-02\n",
      "    8.47269991e-02  7.94018272e-02]\n",
      "  [ 7.27884015e-02  1.09897522e-01  7.95629145e-02 ...  8.78096941e-02\n",
      "    7.98856787e-02  8.37608621e-02]]\n",
      "\n",
      " ...\n",
      "\n",
      " [[ 3.15163601e-02  1.69865354e-02  1.36066200e-02 ...  2.76604870e-02\n",
      "    3.00462725e-02  2.52707544e-02]\n",
      "  [ 7.82890757e-02  6.71686355e-02  9.56178567e-02 ...  8.98179546e-02\n",
      "    9.15572277e-02  8.80715305e-02]\n",
      "  [ 8.87649420e-02  1.33150708e-01  1.01978935e-01 ...  1.14764435e-01\n",
      "    9.47574352e-02  1.06530821e-01]]\n",
      "\n",
      " [[ 1.17033547e-03 -1.19393596e-02 -1.44964771e-02 ... -6.26026472e-03\n",
      "    3.90829963e-03 -6.31240956e-03]\n",
      "  [ 5.79280577e-02  3.72251303e-02  6.95602235e-02 ...  6.71640586e-02\n",
      "    7.23331413e-02  6.02623563e-02]\n",
      "  [ 1.21566605e-01  1.55643272e-01  1.28318961e-01 ...  1.41911872e-01\n",
      "    1.23427941e-01  1.30925988e-01]]\n",
      "\n",
      " [[ 1.35953147e-04 -1.14698293e-02 -1.57639027e-02 ... -8.71341340e-03\n",
      "    2.54490691e-03 -8.86760698e-03]\n",
      "  [ 2.51493086e-02 -3.86561943e-03  3.93363071e-02 ...  3.26091782e-02\n",
      "    4.27172250e-02  2.84780652e-02]\n",
      "  [ 1.42223019e-01  1.62709272e-01  1.46590959e-01 ...  1.59302604e-01\n",
      "    1.40908711e-01  1.46193910e-01]]]\n"
     ]
    }
   ],
   "source": [
    "# Get coordinates of all channels \n",
    "epoch_paths = glob.glob('../data/bids/derivatives/preprocessing/*/*res-hi*fif.gz')\n",
    "pattern = re.compile('sub-(\\d{1,2})_')\n",
    "epoch_sub_order = list(map(pattern.findall, epoch_paths))\n",
    "epoch_sub_order = list(itertools.chain(*epoch_sub_order))\n",
    "\n",
    "captrak_paths = glob.glob('../data/captrak/*.bvct')\n",
    "\n",
    "poss = np.empty([])\n",
    "# for each captrak file\n",
    "for i, captrak_path in enumerate(captrak_paths):\n",
    "    print(f\"Reading captrak file: {captrak_path}\")\n",
    "\n",
    "    # get subject\n",
    "    pattern = re.compile('subj-(\\d{1,2})')\n",
    "    sub = pattern.findall(captrak_path)[0]\n",
    "    \n",
    "    # get captrak file\n",
    "    dig = mne.channels.read_dig_captrak(fname = captrak_path)\n",
    "    \n",
    "    # load epochs object for same subject\n",
    "    ind = epoch_sub_order.index('43')\n",
    "    epoch_fpath = epoch_paths[ind]\n",
    "    print(f\"Reading info from epoch file: {epoch_fpath}\")\n",
    "    info = mne.io.read_info(epoch_fpath)\n",
    "\n",
    "    # get coordinates\n",
    "    ch_names = info.ch_names\n",
    "    if len(ch_names) != N_CHANS:\n",
    "        print(f\"ValueError: Incorrect number of channels, skipping subject {sub}!\")\n",
    "        continue\n",
    "    try:\n",
    "        pos = np.stack([dig.get_positions()['ch_pos'][ch] for ch in ch_names])\n",
    "    except:\n",
    "        print(f\"KeyError: {captrak_path} is incomplete, likely missing FCz, skipping subject {sub}!\")\n",
    "        continue\n",
    "        \n",
    "    # Add to list\n",
    "    pos = pos[..., np.newaxis]\n",
    "    if i == 0:\n",
    "        poss = pos\n",
    "    else:\n",
    "        poss = np.append(poss, pos, axis = 2)\n",
    "    print(np.shape(poss))"
   ]
  },
  {
   "cell_type": "code",
   "execution_count": 159,
   "id": "1fef9447",
   "metadata": {},
   "outputs": [],
   "source": [
    "# Calculate mean coordinates\n",
    "mean_pos = np.mean(poss, axis = 2)\n",
    "x = mean_pos[:, 0]\n",
    "y = mean_pos[:, 1]\n",
    "z = mean_pos[:, 2]"
   ]
  },
  {
   "cell_type": "markdown",
   "id": "43687353",
   "metadata": {},
   "source": [
    "## Mean coherence for each channel"
   ]
  },
  {
   "cell_type": "code",
   "execution_count": 160,
   "id": "41150e3d",
   "metadata": {},
   "outputs": [],
   "source": [
    "# Read coherence files and append all to data frame\n",
    "path = \"../data/bids/derivatives/coherence/*_coh*\"\n",
    "coh = pd.DataFrame()\n",
    "for fpath in glob.glob(path):\n",
    "    data = pd.read_pickle(fpath)\n",
    "    coh = pd.concat([coh, data])\n",
    "coh = coh.set_index('index')"
   ]
  },
  {
   "cell_type": "code",
   "execution_count": 161,
   "id": "32efe0de",
   "metadata": {},
   "outputs": [],
   "source": [
    "# Average over subjects\n",
    "coh_sub_avg = coh.groupby(['cond', 'chan']).mean()\n",
    "\n",
    "# Clean up\n",
    "coh_sub_avg = coh_sub_avg.reset_index()\n",
    "coh_sub_avg[\"cond\"] = pd.to_numeric(coh_sub_avg[\"cond\"])"
   ]
  },
  {
   "cell_type": "code",
   "execution_count": 162,
   "id": "c8bbcd02",
   "metadata": {},
   "outputs": [],
   "source": [
    "# Broadcast coordinates\n",
    "x = np.hstack([x]*5)\n",
    "y = np.hstack([y]*5)\n",
    "z = np.hstack([z]*5)\n",
    "\n",
    "# Add coordinates to data frame\n",
    "coh_sub_avg['x'], coh_sub_avg['y'], coh_sub_avg['z'] = [x, y, z]"
   ]
  },
  {
   "cell_type": "code",
   "execution_count": 163,
   "id": "23a1cf1b",
   "metadata": {},
   "outputs": [],
   "source": [
    "# Subset coherence values by condition\n",
    "coh_50 = coh_sub_avg[coh_sub_avg['cond'] == 50]\n",
    "coh_100 = coh_sub_avg[coh_sub_avg['cond'] == 100]\n",
    "coh_150 = coh_sub_avg[coh_sub_avg['cond'] == 150]\n",
    "coh_200 = coh_sub_avg[coh_sub_avg['cond'] == 200]\n",
    "coh_250 = coh_sub_avg[coh_sub_avg['cond'] == 250]"
   ]
  },
  {
   "cell_type": "code",
   "execution_count": null,
   "id": "a8445ebd",
   "metadata": {},
   "outputs": [],
   "source": [
    "# Subtract coherence values from baseline?"
   ]
  },
  {
   "cell_type": "code",
   "execution_count": 195,
   "id": "d9eba0c2",
   "metadata": {},
   "outputs": [
    {
     "data": {
      "text/plain": [
       "<seaborn.axisgrid.FacetGrid at 0x7f3d08384940>"
      ]
     },
     "execution_count": 195,
     "metadata": {},
     "output_type": "execute_result"
    },
    {
     "data": {
      "image/png": "[encoded data removed]",
      "text/plain": [
       "<Figure size 424.75x360 with 1 Axes>"
      ]
     },
     "metadata": {
      "needs_background": "light"
     },
     "output_type": "display_data"
    },
    {
     "data": {
      "image/png": "[encoded data removed]",
      "text/plain": [
       "<Figure size 418.375x360 with 1 Axes>"
      ]
     },
     "metadata": {
      "needs_background": "light"
     },
     "output_type": "display_data"
    },
    {
     "data": {
      "image/png": "[encoded data removed]",
      "text/plain": [
       "<Figure size 418.375x360 with 1 Axes>"
      ]
     },
     "metadata": {
      "needs_background": "light"
     },
     "output_type": "display_data"
    },
    {
     "data": {
      "image/png": "[encoded data removed]",
      "text/plain": [
       "<Figure size 418.375x360 with 1 Axes>"
      ]
     },
     "metadata": {
      "needs_background": "light"
     },
     "output_type": "display_data"
    },
    {
     "data": {
      "image/png": "[encoded data removed]",
      "text/plain": [
       "<Figure size 418.375x360 with 1 Axes>"
      ]
     },
     "metadata": {
      "needs_background": "light"
     },
     "output_type": "display_data"
    }
   ],
   "source": [
    "# Plot\n",
    "ax = sns.relplot(x = \"x\", y = \"y\", size = \"50\", sizes=(15, 200), data = coh_50)\n",
    "ax.despine(left = True, bottom = True)\n",
    "ax.set_xticklabels([])\n",
    "ax.set_yticklabels([])\n",
    "ax.set_xlabels('')\n",
    "ax.set_ylabels('')\n",
    "\n",
    "ax = sns.relplot(x = \"x\", y = \"y\", size = \"100\", sizes=(15, 200), data = coh_100)\n",
    "ax.despine(left = True, bottom = True)\n",
    "ax.set_xticklabels([])\n",
    "ax.set_yticklabels([])\n",
    "ax.set_xlabels('')\n",
    "ax.set_ylabels('')\n",
    "\n",
    "ax = sns.relplot(x = \"x\", y = \"y\", size = \"150\", sizes=(15, 200), data = coh_150)\n",
    "ax.despine(left = True, bottom = True)\n",
    "ax.set_xticklabels([])\n",
    "ax.set_yticklabels([])\n",
    "ax.set_xlabels('')\n",
    "ax.set_ylabels('')\n",
    "\n",
    "ax = sns.relplot(x = \"x\", y = \"y\", size = \"200\", sizes=(15, 200), data = coh_200)\n",
    "ax.despine(left = True, bottom = True)\n",
    "ax.set_xticklabels([])\n",
    "ax.set_yticklabels([])\n",
    "ax.set_xlabels('')\n",
    "ax.set_ylabels('')\n",
    "\n",
    "ax = sns.relplot(x = \"x\", y = \"y\", size = \"250\", sizes=(15, 200), data = coh_250)\n",
    "ax.despine(left = True, bottom = True)\n",
    "ax.set_xticklabels([])\n",
    "ax.set_yticklabels([])\n",
    "ax.set_xlabels('')\n",
    "ax.set_ylabels('')"
   ]
  },
  {
   "cell_type": "code",
   "execution_count": null,
   "id": "ca7ae5c5",
   "metadata": {},
   "outputs": [],
   "source": []
  },
  {
   "cell_type": "code",
   "execution_count": null,
   "id": "390ee53f",
   "metadata": {},
   "outputs": [],
   "source": []
  },
  {
   "cell_type": "code",
   "execution_count": null,
   "id": "7d0a2942",
   "metadata": {},
   "outputs": [],
   "source": [
    "# Plot mean coordinates\n",
    "rng = np.random.RandomState(0)\n",
    "data = rng.normal(size=(N_CHANS, 1)) * 1e-6\n",
    "fake_evoked = mne.EvokedArray(data, info)\n",
    "fake_evoked.set_montage(dig)\n",
    "fake_evoked.plot_sensors()"
   ]
  },
  {
   "cell_type": "code",
   "execution_count": 146,
   "id": "02d620ee",
   "metadata": {},
   "outputs": [
    {
     "data": {
      "text/plain": [
       "(310,)"
      ]
     },
     "execution_count": 146,
     "metadata": {},
     "output_type": "execute_result"
    }
   ],
   "source": [
    "np.shape(np.hstack([z]*5))"
   ]
  },
  {
   "cell_type": "code",
   "execution_count": 105,
   "id": "bab87bd6",
   "metadata": {},
   "outputs": [
    {
     "ename": "ValueError",
     "evalue": "DigMontage is only a subset of info. There are 62 channel positions not present in the DigMontage. The required channels are:\n\n['0', '1', '2', '3', '4', '5', '6', '7', '8', '9', '10', '11', '12', '13', '14', '15', '16', '17', '18', '19', '20', '21', '22', '23', '24', '25', '26', '27', '28', '29', '30', '31', '32', '33', '34', '35', '36', '37', '38', '39', '40', '41', '42', '43', '44', '45', '46', '47', '48', '49', '50', '51', '52', '53', '54', '55', '56', '57', '58', '59', '60', '61'].\n\nConsider using inst.set_channel_types if these are not EEG channels, or use the on_missing parameter if the channel positions are allowed to be unknown in your analyses.",
     "output_type": "error",
     "traceback": [
      "\u001b[0;31m---------------------------------------------------------------------------\u001b[0m",
      "\u001b[0;31mValueError\u001b[0m                                Traceback (most recent call last)",
      "Input \u001b[0;32mIn [105]\u001b[0m, in \u001b[0;36m<cell line: 7>\u001b[0;34m()\u001b[0m\n\u001b[1;32m      5\u001b[0m info \u001b[38;5;241m=\u001b[39m mne\u001b[38;5;241m.\u001b[39mcreate_info(\u001b[38;5;241m62\u001b[39m, \u001b[38;5;241m5000\u001b[39m, ch_types \u001b[38;5;241m=\u001b[39m \u001b[38;5;124m'\u001b[39m\u001b[38;5;124meeg\u001b[39m\u001b[38;5;124m'\u001b[39m)\n\u001b[1;32m      6\u001b[0m fake_evoked \u001b[38;5;241m=\u001b[39m mne\u001b[38;5;241m.\u001b[39mEvokedArray(data, info)\n\u001b[0;32m----> 7\u001b[0m \u001b[43mfake_evoked\u001b[49m\u001b[38;5;241;43m.\u001b[39;49m\u001b[43mset_montage\u001b[49m\u001b[43m(\u001b[49m\u001b[43mdig\u001b[49m\u001b[43m)\u001b[49m\n\u001b[1;32m      8\u001b[0m fake_evoked\u001b[38;5;241m.\u001b[39mplot_sensors()\n",
      "File \u001b[0;32m<decorator-gen-28>:12\u001b[0m, in \u001b[0;36mset_montage\u001b[0;34m(self, montage, match_case, match_alias, on_missing, verbose)\u001b[0m\n",
      "File \u001b[0;32m~/.conda/envs/pitch-tracking/lib/python3.10/site-packages/mne/io/meas_info.py:225\u001b[0m, in \u001b[0;36mMontageMixin.set_montage\u001b[0;34m(self, montage, match_case, match_alias, on_missing, verbose)\u001b[0m\n\u001b[1;32m    223\u001b[0m \u001b[38;5;28;01mfrom\u001b[39;00m \u001b[38;5;21;01m.\u001b[39;00m\u001b[38;5;21;01m.\u001b[39;00m\u001b[38;5;21;01mchannels\u001b[39;00m\u001b[38;5;21;01m.\u001b[39;00m\u001b[38;5;21;01mmontage\u001b[39;00m \u001b[38;5;28;01mimport\u001b[39;00m _set_montage\n\u001b[1;32m    224\u001b[0m info \u001b[38;5;241m=\u001b[39m \u001b[38;5;28mself\u001b[39m \u001b[38;5;28;01mif\u001b[39;00m \u001b[38;5;28misinstance\u001b[39m(\u001b[38;5;28mself\u001b[39m, Info) \u001b[38;5;28;01melse\u001b[39;00m \u001b[38;5;28mself\u001b[39m\u001b[38;5;241m.\u001b[39minfo\n\u001b[0;32m--> 225\u001b[0m \u001b[43m_set_montage\u001b[49m\u001b[43m(\u001b[49m\u001b[43minfo\u001b[49m\u001b[43m,\u001b[49m\u001b[43m \u001b[49m\u001b[43mmontage\u001b[49m\u001b[43m,\u001b[49m\u001b[43m \u001b[49m\u001b[43mmatch_case\u001b[49m\u001b[43m,\u001b[49m\u001b[43m \u001b[49m\u001b[43mmatch_alias\u001b[49m\u001b[43m,\u001b[49m\u001b[43m \u001b[49m\u001b[43mon_missing\u001b[49m\u001b[43m)\u001b[49m\n\u001b[1;32m    226\u001b[0m \u001b[38;5;28;01mreturn\u001b[39;00m \u001b[38;5;28mself\u001b[39m\n",
      "File \u001b[0;32m~/.conda/envs/pitch-tracking/lib/python3.10/site-packages/mne/channels/montage.py:1035\u001b[0m, in \u001b[0;36m_set_montage\u001b[0;34m(***failed resolving arguments***)\u001b[0m\n\u001b[1;32m   1025\u001b[0m missing_names \u001b[38;5;241m=\u001b[39m [info_names[ii] \u001b[38;5;28;01mfor\u001b[39;00m ii \u001b[38;5;129;01min\u001b[39;00m missing]\n\u001b[1;32m   1026\u001b[0m missing_coord_msg \u001b[38;5;241m=\u001b[39m (\n\u001b[1;32m   1027\u001b[0m     \u001b[38;5;124m'\u001b[39m\u001b[38;5;124mDigMontage is only a subset of info. There are \u001b[39m\u001b[38;5;124m'\u001b[39m\n\u001b[1;32m   1028\u001b[0m     \u001b[38;5;124mf\u001b[39m\u001b[38;5;124m'\u001b[39m\u001b[38;5;132;01m{\u001b[39;00m\u001b[38;5;28mlen\u001b[39m(missing)\u001b[38;5;132;01m}\u001b[39;00m\u001b[38;5;124m channel position\u001b[39m\u001b[38;5;132;01m{\u001b[39;00m_pl(missing)\u001b[38;5;132;01m}\u001b[39;00m\u001b[38;5;124m \u001b[39m\u001b[38;5;124m'\u001b[39m\n\u001b[0;32m   (...)\u001b[0m\n\u001b[1;32m   1033\u001b[0m     \u001b[38;5;124m'\u001b[39m\u001b[38;5;124min your analyses.\u001b[39m\u001b[38;5;124m'\u001b[39m\n\u001b[1;32m   1034\u001b[0m )\n\u001b[0;32m-> 1035\u001b[0m \u001b[43m_on_missing\u001b[49m\u001b[43m(\u001b[49m\u001b[43mon_missing\u001b[49m\u001b[43m,\u001b[49m\u001b[43m \u001b[49m\u001b[43mmissing_coord_msg\u001b[49m\u001b[43m)\u001b[49m\n\u001b[1;32m   1037\u001b[0m \u001b[38;5;66;03m# set ch coordinates and names from digmontage or nan coords\u001b[39;00m\n\u001b[1;32m   1038\u001b[0m \u001b[38;5;28;01mfor\u001b[39;00m ii \u001b[38;5;129;01min\u001b[39;00m missing:\n",
      "File \u001b[0;32m~/.conda/envs/pitch-tracking/lib/python3.10/site-packages/mne/utils/check.py:872\u001b[0m, in \u001b[0;36m_on_missing\u001b[0;34m(on_missing, msg, name, error_klass)\u001b[0m\n\u001b[1;32m    870\u001b[0m on_missing \u001b[38;5;241m=\u001b[39m \u001b[38;5;124m'\u001b[39m\u001b[38;5;124mwarn\u001b[39m\u001b[38;5;124m'\u001b[39m \u001b[38;5;28;01mif\u001b[39;00m on_missing \u001b[38;5;241m==\u001b[39m \u001b[38;5;124m'\u001b[39m\u001b[38;5;124mwarning\u001b[39m\u001b[38;5;124m'\u001b[39m \u001b[38;5;28;01melse\u001b[39;00m on_missing\n\u001b[1;32m    871\u001b[0m \u001b[38;5;28;01mif\u001b[39;00m on_missing \u001b[38;5;241m==\u001b[39m \u001b[38;5;124m'\u001b[39m\u001b[38;5;124mraise\u001b[39m\u001b[38;5;124m'\u001b[39m:\n\u001b[0;32m--> 872\u001b[0m     \u001b[38;5;28;01mraise\u001b[39;00m error_klass(msg)\n\u001b[1;32m    873\u001b[0m \u001b[38;5;28;01melif\u001b[39;00m on_missing \u001b[38;5;241m==\u001b[39m \u001b[38;5;124m'\u001b[39m\u001b[38;5;124mwarn\u001b[39m\u001b[38;5;124m'\u001b[39m:\n\u001b[1;32m    874\u001b[0m     warn(msg)\n",
      "\u001b[0;31mValueError\u001b[0m: DigMontage is only a subset of info. There are 62 channel positions not present in the DigMontage. The required channels are:\n\n['0', '1', '2', '3', '4', '5', '6', '7', '8', '9', '10', '11', '12', '13', '14', '15', '16', '17', '18', '19', '20', '21', '22', '23', '24', '25', '26', '27', '28', '29', '30', '31', '32', '33', '34', '35', '36', '37', '38', '39', '40', '41', '42', '43', '44', '45', '46', '47', '48', '49', '50', '51', '52', '53', '54', '55', '56', '57', '58', '59', '60', '61'].\n\nConsider using inst.set_channel_types if these are not EEG channels, or use the on_missing parameter if the channel positions are allowed to be unknown in your analyses."
     ]
    }
   ],
   "source": [
    "n_channels = 62\n",
    "n_samples = 1\n",
    "rng = np.random.RandomState(0)\n",
    "data = rng.normal(size=(n_channels, 1)) * 1e-6\n",
    "# info = mne.create_info(62, 5000, ch_types = 'eeg')\n",
    "fake_evoked = mne.EvokedArray(data, epoch.info)\n",
    "fake_evoked.set_montage(dig)\n",
    "fake_evoked.plot_sensors()"
   ]
  },
  {
   "cell_type": "code",
   "execution_count": 102,
   "id": "aa1bfa8a",
   "metadata": {},
   "outputs": [
    {
     "data": {
      "text/html": [
       "<table class=\"table table-hover table-striped table-sm table-responsive small\">\n",
       "    <tr>\n",
       "        <th>Measurement date</th>\n",
       "        \n",
       "        <td>Unknown</td>\n",
       "        \n",
       "    </tr>\n",
       "    <tr>\n",
       "        <th>Experimenter</th>\n",
       "        \n",
       "        <td>Unknown</td>\n",
       "        \n",
       "    </tr>\n",
       "        <th>Participant</th>\n",
       "        \n",
       "        <td>Unknown</td>\n",
       "        \n",
       "    </tr>\n",
       "    <tr>\n",
       "        <th>Digitized points</th>\n",
       "        \n",
       "        <td>0 points</td>\n",
       "        \n",
       "    </tr>\n",
       "    <tr>\n",
       "        <th>Good channels</th>\n",
       "        <td>62 misc</td>\n",
       "    </tr>\n",
       "    <tr>\n",
       "        <th>Bad channels</th>\n",
       "        <td>None</td>\n",
       "    </tr>\n",
       "    <tr>\n",
       "        <th>EOG channels</th>\n",
       "        <td>Not available</td>\n",
       "    </tr>\n",
       "    <tr>\n",
       "        <th>ECG channels</th>\n",
       "        <td>Not available</td>\n",
       "    \n",
       "    <tr>\n",
       "        <th>Sampling frequency</th>\n",
       "        <td>5000.00 Hz</td>\n",
       "    </tr>\n",
       "    \n",
       "    \n",
       "    <tr>\n",
       "        <th>Highpass</th>\n",
       "        <td>0.00 Hz</td>\n",
       "    </tr>\n",
       "    \n",
       "    \n",
       "    <tr>\n",
       "        <th>Lowpass</th>\n",
       "        <td>2500.00 Hz</td>\n",
       "    </tr>\n",
       "    \n",
       "    \n",
       "</table>"
      ],
      "text/plain": [
       "<Info | 8 non-empty values\n",
       " bads: []\n",
       " ch_names: 0, 1, 2, 3, 4, 5, 6, 7, 8, 9, 10, 11, 12, 13, 14, 15, 16, 17, ...\n",
       " chs: 62 misc\n",
       " custom_ref_applied: False\n",
       " dig: 3 items (3 Cardinal)\n",
       " highpass: 0.0 Hz\n",
       " lowpass: 2500.0 Hz\n",
       " meas_date: unspecified\n",
       " nchan: 62\n",
       " projs: []\n",
       " sfreq: 5000.0 Hz\n",
       ">"
      ]
     },
     "execution_count": 102,
     "metadata": {},
     "output_type": "execute_result"
    }
   ],
   "source": [
    "epochs_path = glob.glob('../data/bids/derivatives/preprocessing/*/*res-hi*')\n",
    "pattern = re.compile('sub-(\\d{1,2})_')\n",
    "epoch_sub_order = list(map(pattern.findall, epochs_path))\n",
    "epoch_sub_order = list(itertools.chain(*epoch_sub_order))\n",
    "\n",
    "captrak_path = glob.glob('../data/captrak/*.bvct')\n",
    "# pattern = re.compile('subj-(\\d{1,2})')\n",
    "# captrak_sub_order = list(map(pattern.findall, captrak_path))\n",
    "# captrak_sub_order = list(itertools.chain(*captrak_sub_order))\n",
    "\n",
    "# n_subs = len(captrak_path)\n",
    "# poss = np.empty([n_subs, N_CHANS, 3])\n",
    "poss = []\n",
    "# for each captrak file\n",
    "for file in captrak_path:\n",
    "    # get subject\n",
    "    pattern = re.compile('subj-(\\d{1,2})')\n",
    "    sub = pattern.findall(fpath)[0]\n",
    "    \n",
    "    # get corresponding captrak file\n",
    "    dig = mne.channels.read_dig_captrak(fname = file)\n",
    "    \n",
    "    # load their epochs object\n",
    "    ind = epoch_sub_order.index('43')\n",
    "    epoch_fpath = epochs_path[ind]\n",
    "    epochs = mne.read_epochs(epoch_fpath, preload = False)\n",
    "\n",
    "    # get coordinates\n",
    "    ch_names = epochs.ch_names\n",
    "    if len(ch_names) != N_CHANS:\n",
    "        print(f\"Incorrect number of channels, skipping subjet {sub}\")\n",
    "        continue\n",
    "    pos = np.stack([dig.get_positions()['ch_pos'][ch] for ch in ch_names])\n",
    "    poss = [poss, pos]\n",
    "    \n",
    "# Plot mean coordinates\n",
    "# rng = np.random.RandomState(0)\n",
    "# data = rng.normal(size=(N_CHANS, 1)) * 1e-6\n",
    "# fake_evoked = mne.EvokedArray(data, epoch.info)\n",
    "# fake_evoked.set_montage(dig)\n",
    "# fake_evoked.plot_sensors()\n",
    "    "
   ]
  },
  {
   "cell_type": "code",
   "execution_count": null,
   "id": "03870a6b",
   "metadata": {},
   "outputs": [],
   "source": []
  }
 ],
 "metadata": {
  "kernelspec": {
   "display_name": "Python 3 (ipykernel)",
   "language": "python",
   "name": "python3"
  },
  "language_info": {
   "codemirror_mode": {
    "name": "ipython",
    "version": 3
   },
   "file_extension": ".py",
   "mimetype": "text/x-python",
   "name": "python",
   "nbconvert_exporter": "python",
   "pygments_lexer": "ipython3",
   "version": "3.10.4"
  }
 },
 "nbformat": 4,
 "nbformat_minor": 5
}
