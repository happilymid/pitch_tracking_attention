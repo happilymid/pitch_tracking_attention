{
 "cells": [
  {
   "cell_type": "code",
   "execution_count": 1,
   "metadata": {},
   "outputs": [],
   "source": [
    "import mne\n",
    "import sys\n",
    "import numpy as np\n",
    "import pandas as pd\n",
    "import matplotlib.pyplot as plt\n",
    "from sklearn.pipeline import make_pipeline\n",
    "from sklearn import preprocessing\n",
    "from sklearn.preprocessing import StandardScaler\n",
    "from sklearn.linear_model import LogisticRegression\n",
    "from mne.decoding import SlidingEstimator, cross_val_multiscore\n",
    "from bids import BIDSLayout\n",
    "from mne.minimum_norm import (apply_inverse, apply_inverse_epochs,\n",
    "                              read_inverse_operator)\n",
    "from mne_connectivity import seed_target_indices, spectral_connectivity_epochs"
   ]
  },
  {
   "cell_type": "code",
   "execution_count": 2,
   "metadata": {},
   "outputs": [],
   "source": [
    "BIDS_ROOT = '../data/bids'\n",
    "FIGS_ROOT = '../figs'\n",
    "DERIV_ROOT = '../data/bids/derivatives'\n",
    "FS = 5000\n",
    "FREQS = [50, 100, 150, 200, 250]"
   ]
  },
  {
   "cell_type": "code",
   "execution_count": 3,
   "metadata": {},
   "outputs": [
    {
     "name": "stderr",
     "output_type": "stream",
     "text": [
      "/home/letitiayhho/.conda/envs/pitch-tracking/lib/python3.10/site-packages/bids/layout/validation.py:151: UserWarning: The PipelineDescription field was superseded by GeneratedBy in BIDS 1.4.0. You can use ``pybids upgrade`` to update your derivative dataset.\n",
      "  warnings.warn(\"The PipelineDescription field was superseded \"\n"
     ]
    }
   ],
   "source": [
    "layout = BIDSLayout(BIDS_ROOT, derivatives = True)\n",
    "fpaths = layout.get(scope = 'preprocessing',\n",
    "                    res = 'hi',\n",
    "                    suffix='epo',\n",
    "                    extension = 'fif.gz',\n",
    "                    return_type = 'filename')"
   ]
  },
  {
   "cell_type": "code",
   "execution_count": 19,
   "metadata": {},
   "outputs": [
    {
     "name": "stdout",
     "output_type": "stream",
     "text": [
      "Reading /project2/hcn1/pitch_tracking/scripts/../data/bids/derivatives/preprocessing/sub-9/sub-9_task-pitch_run-1_res-hi_desc-clean_epo.fif.gz ...\n",
      "    Found the data of interest:\n",
      "        t =    -200.00 ...     250.00 ms\n",
      "        0 CTF compensation matrices available\n",
      "0 bad epochs dropped\n",
      "Not setting metadata\n",
      "1922 matching events found\n",
      "No baseline correction applied\n",
      "0 projection items activated\n"
     ]
    },
    {
     "name": "stderr",
     "output_type": "stream",
     "text": [
      "/tmp/ipykernel_45564/1587172011.py:2: RuntimeWarning: This filename (/project2/hcn1/pitch_tracking/scripts/../data/bids/derivatives/preprocessing/sub-9/sub-9_task-pitch_run-1_res-hi_desc-clean_epo.fif.gz) does not conform to MNE naming conventions. All events files should end with .eve, -eve.fif, -eve.fif.gz, -eve.lst, -eve.txt, _eve.fif, _eve.fif.gz, _eve.lst, _eve.txt or -annot.fif\n",
      "  events = mne.read_events(fpaths[10])\n"
     ]
    }
   ],
   "source": [
    "epochs = mne.read_epochs(fpaths[10])\n",
    "events = mne.read_events(fpaths[10])\n",
    "n_epochs = len(events)"
   ]
  },
  {
   "cell_type": "markdown",
   "metadata": {},
   "source": [
    "### Simulate channels with stim signals"
   ]
  },
  {
   "cell_type": "code",
   "execution_count": 5,
   "metadata": {},
   "outputs": [
    {
     "name": "stdout",
     "output_type": "stream",
     "text": [
      "(1922, 5, 2251)\n",
      "Not setting metadata\n",
      "1922 matching events found\n",
      "Applying baseline correction (mode: mean)\n",
      "0 projection items activated\n"
     ]
    },
    {
     "name": "stderr",
     "output_type": "stream",
     "text": [
      "/home/letitiayhho/.conda/envs/pitch-tracking/lib/python3.10/site-packages/mne/io/meas_info.py:864: UserWarning: Avoid manually setting custom_ref_applied cannot be set directly. Please use method inst.set_eeg_reference() instead.\n",
      "  warnings.warn(f\"Avoid manually setting {self._attributes[key]}\")\n",
      "/home/letitiayhho/.conda/envs/pitch-tracking/lib/python3.10/site-packages/mne/io/meas_info.py:864: UserWarning: Avoid manually setting highpass cannot be set directly. Please use method inst.filter() instead.\n",
      "  warnings.warn(f\"Avoid manually setting {self._attributes[key]}\")\n",
      "/home/letitiayhho/.conda/envs/pitch-tracking/lib/python3.10/site-packages/mne/io/meas_info.py:864: UserWarning: Avoid manually setting lowpass cannot be set directly. Please use method inst.filter() instead.\n",
      "  warnings.warn(f\"Avoid manually setting {self._attributes[key]}\")\n"
     ]
    },
    {
     "name": "stdout",
     "output_type": "stream",
     "text": [
      "0 bad epochs dropped\n"
     ]
    }
   ],
   "source": [
    "# Create 200 msec sine waves at condition frequencies\n",
    "tmin = -0.2\n",
    "tmax = 0.25\n",
    "samples_in_epoch = int(FS*(abs(tmin) + tmax))+1\n",
    "times = np.linspace(-0.2, 0.25, samples_in_epoch, endpoint = False) # times for a 200 msec epoch\n",
    "sine_50 = np.sin(50 * 2 * np.pi * times)\n",
    "sine_100 = np.sin(100 * 2 * np.pi * times)\n",
    "sine_150 = np.sin(150 * 2 * np.pi * times)\n",
    "sine_200 = np.sin(200 * 2 * np.pi * times)\n",
    "sine_250 = np.sin(250 * 2 * np.pi * times)\n",
    "\n",
    "# Broadcast sine waves by number of epochs\n",
    "sine_50_epochs = [sine_50]*n_epochs\n",
    "sine_100_epochs = [sine_100]*n_epochs\n",
    "sine_150_epochs = [sine_150]*n_epochs\n",
    "sine_200_epochs = [sine_200]*n_epochs\n",
    "sine_250_epochs = [sine_250]*n_epochs\n",
    "\n",
    "# Combine sine waves into array\n",
    "data = np.stack((sine_50_epochs, \n",
    "                 sine_100_epochs,\n",
    "                 sine_150_epochs,\n",
    "                 sine_200_epochs,\n",
    "                 sine_250_epochs,\n",
    "                ), axis = 1)\n",
    "print(np.shape(data)) # n_epochs, n_channels, n_samples\n",
    "\n",
    "# Specify channel info\n",
    "info = mne.create_info(ch_names = ['50haz', \n",
    "                                   '100hz',\n",
    "                                   '150hz',\n",
    "                                   '200hz',\n",
    "                                   '250hz'],\n",
    "                       ch_types = ['stim'] * 5,\n",
    "                       sfreq = FS)\n",
    "\n",
    "# Manually add channel info to match original data to stop mne from shouting at us, very hacky\n",
    "info['custom_ref_applied'] = True\n",
    "info['description'] = 'Anonymized using a time shift to preserve age at acquisition'\n",
    "info['experimenter'] = 'mne_anonymize'\n",
    "info['highpass'] = 30.0\n",
    "info['line_freq'] = 60.0\n",
    "info['lowpass'] = 270.0\n",
    "event_id = {'100': 10001, '150': 10002, '200': 10003, '250': 10004, '50': 10005}\n",
    "\n",
    "# Manually add info that is passed in through mne.EpochsArray instead of in the info dict, also very hacky\n",
    "tmin = -0.2\n",
    "tmax = 0.25\n",
    "baseline = (-0.20000000298023224, 0.0)\n",
    "\n",
    "# Create Epochs object\n",
    "simulated_epochs = mne.EpochsArray(data, \n",
    "                                   info, \n",
    "                                   events = events, \n",
    "                                   tmin = tmin, \n",
    "                                   event_id = event_id, \n",
    "                                   baseline = baseline)"
   ]
  },
  {
   "cell_type": "code",
   "execution_count": 6,
   "metadata": {},
   "outputs": [],
   "source": [
    "# Combine original channels with simulated channels\n",
    "combined_epochs = mne.epochs.add_channels_epochs([epochs, simulated_epochs])"
   ]
  },
  {
   "cell_type": "markdown",
   "metadata": {},
   "source": [
    "### Compute coherence"
   ]
  },
  {
   "cell_type": "code",
   "execution_count": 41,
   "metadata": {},
   "outputs": [],
   "source": [
    "data = combined_epochs.get_data()\n",
    "fmin = (45, 95, 145, 195, 245)\n",
    "fmax = (55, 105, 155, 205, 255)"
   ]
  },
  {
   "cell_type": "code",
   "execution_count": 44,
   "metadata": {},
   "outputs": [
    {
     "name": "stdout",
     "output_type": "stream",
     "text": [
      "[62 63 64 65 66 62 63 64 65 66 62 63 64 65 66 62 63 64 65 66 62 63 64 65\n",
      " 66 62 63 64 65 66 62 63 64 65 66 62 63 64 65 66 62 63 64 65 66 62 63 64\n",
      " 65 66 62 63 64 65 66 62 63 64 65 66 62 63 64 65 66 62 63 64 65 66 62 63\n",
      " 64 65 66 62 63 64 65 66 62 63 64 65 66 62 63 64 65 66 62 63 64 65 66 62\n",
      " 63 64 65 66 62 63 64 65 66 62 63 64 65 66 62 63 64 65 66 62 63 64 65 66\n",
      " 62 63 64 65 66 62 63 64 65 66 62 63 64 65 66 62 63 64 65 66 62 63 64 65\n",
      " 66 62 63 64 65 66 62 63 64 65 66 62 63 64 65 66 62 63 64 65 66 62 63 64\n",
      " 65 66 62 63 64 65 66 62 63 64 65 66 62 63 64 65 66 62 63 64 65 66 62 63\n",
      " 64 65 66 62 63 64 65 66 62 63 64 65 66 62 63 64 65 66 62 63 64 65 66 62\n",
      " 63 64 65 66 62 63 64 65 66 62 63 64 65 66 62 63 64 65 66 62 63 64 65 66\n",
      " 62 63 64 65 66 62 63 64 65 66 62 63 64 65 66 62 63 64 65 66 62 63 64 65\n",
      " 66 62 63 64 65 66 62 63 64 65 66 62 63 64 65 66 62 63 64 65 66 62 63 64\n",
      " 65 66 62 63 64 65 66 62 63 64 65 66 62 63 64 65 66 62 63 64 65 66]\n",
      "[ 0  0  0  0  0  1  1  1  1  1  2  2  2  2  2  3  3  3  3  3  4  4  4  4\n",
      "  4  5  5  5  5  5  6  6  6  6  6  7  7  7  7  7  8  8  8  8  8  9  9  9\n",
      "  9  9 10 10 10 10 10 11 11 11 11 11 12 12 12 12 12 13 13 13 13 13 14 14\n",
      " 14 14 14 15 15 15 15 15 16 16 16 16 16 17 17 17 17 17 18 18 18 18 18 19\n",
      " 19 19 19 19 20 20 20 20 20 21 21 21 21 21 22 22 22 22 22 23 23 23 23 23\n",
      " 24 24 24 24 24 25 25 25 25 25 26 26 26 26 26 27 27 27 27 27 28 28 28 28\n",
      " 28 29 29 29 29 29 30 30 30 30 30 31 31 31 31 31 32 32 32 32 32 33 33 33\n",
      " 33 33 34 34 34 34 34 35 35 35 35 35 36 36 36 36 36 37 37 37 37 37 38 38\n",
      " 38 38 38 39 39 39 39 39 40 40 40 40 40 41 41 41 41 41 42 42 42 42 42 43\n",
      " 43 43 43 43 44 44 44 44 44 45 45 45 45 45 46 46 46 46 46 47 47 47 47 47\n",
      " 48 48 48 48 48 49 49 49 49 49 50 50 50 50 50 51 51 51 51 51 52 52 52 52\n",
      " 52 53 53 53 53 53 54 54 54 54 54 55 55 55 55 55 56 56 56 56 56 57 57 57\n",
      " 57 57 58 58 58 58 58 59 59 59 59 59 60 60 60 60 60 61 61 61 61 61 62 62\n",
      " 62 62 62]\n"
     ]
    }
   ],
   "source": [
    "# Set indices of channel pairs to compute coherence across\n",
    "stim_indices = np.array([62, 63, 64, 65, 66]*62)\n",
    "chan_indices = np.repeat(np.arange(0, 63, 1), 5)\n",
    "print(stim_indices)\n",
    "print(chan_indices)"
   ]
  },
  {
   "cell_type": "code",
   "execution_count": 43,
   "metadata": {},
   "outputs": [
    {
     "name": "stdout",
     "output_type": "stream",
     "text": [
      "Connectivity computation...\n",
      "    computing connectivity for 7498 connections\n",
      "    using t=0.000s..0.450s for estimation (2251 points)\n",
      "    computing connectivity for the bands:\n",
      "     band 1: 46.6Hz..53.3Hz (4 points)\n",
      "     band 2: 95.5Hz..104.4Hz (5 points)\n",
      "     band 3: 146.6Hz..153.3Hz (4 points)\n",
      "     band 4: 195.5Hz..204.4Hz (5 points)\n",
      "     band 5: 246.6Hz..253.2Hz (4 points)\n",
      "    connectivity scores will be averaged for each band\n",
      "    using FFT with a Hanning window to estimate spectra\n",
      "    the following metrics will be computed: Coherence\n",
      "    computing connectivity for epoch 1\n"
     ]
    },
    {
     "ename": "IndexError",
     "evalue": "index 67 is out of bounds for axis 0 with size 67",
     "output_type": "error",
     "traceback": [
      "\u001b[0;31m---------------------------------------------------------------------------\u001b[0m",
      "\u001b[0;31mIndexError\u001b[0m                                Traceback (most recent call last)",
      "Input \u001b[0;32mIn [43]\u001b[0m, in \u001b[0;36m<cell line: 1>\u001b[0;34m()\u001b[0m\n\u001b[0;32m----> 1\u001b[0m coh \u001b[38;5;241m=\u001b[39m \u001b[43mspectral_connectivity_epochs\u001b[49m\u001b[43m(\u001b[49m\n\u001b[1;32m      2\u001b[0m \u001b[43m    \u001b[49m\u001b[43mdata\u001b[49m\u001b[43m,\u001b[49m\u001b[43m \u001b[49m\u001b[43mmethod\u001b[49m\u001b[38;5;241;43m=\u001b[39;49m\u001b[38;5;124;43m'\u001b[39;49m\u001b[38;5;124;43mcoh\u001b[39;49m\u001b[38;5;124;43m'\u001b[39;49m\u001b[43m,\u001b[49m\u001b[43m \u001b[49m\u001b[43mmode\u001b[49m\u001b[38;5;241;43m=\u001b[39;49m\u001b[38;5;124;43m'\u001b[39;49m\u001b[38;5;124;43mfourier\u001b[39;49m\u001b[38;5;124;43m'\u001b[39;49m\u001b[43m,\u001b[49m\u001b[43m \u001b[49m\u001b[43mindices\u001b[49m\u001b[38;5;241;43m=\u001b[39;49m\u001b[43mindices\u001b[49m\u001b[43m,\u001b[49m\n\u001b[1;32m      3\u001b[0m \u001b[43m    \u001b[49m\u001b[43msfreq\u001b[49m\u001b[38;5;241;43m=\u001b[39;49m\u001b[43mFS\u001b[49m\u001b[43m,\u001b[49m\u001b[43m \u001b[49m\u001b[43mfmin\u001b[49m\u001b[38;5;241;43m=\u001b[39;49m\u001b[43mfmin\u001b[49m\u001b[43m,\u001b[49m\u001b[43m \u001b[49m\u001b[43mfmax\u001b[49m\u001b[38;5;241;43m=\u001b[39;49m\u001b[43mfmax\u001b[49m\u001b[43m,\u001b[49m\u001b[43m \u001b[49m\u001b[43mfaverage\u001b[49m\u001b[38;5;241;43m=\u001b[39;49m\u001b[38;5;28;43;01mTrue\u001b[39;49;00m\u001b[43m,\u001b[49m\u001b[43m \u001b[49m\u001b[43mn_jobs\u001b[49m\u001b[38;5;241;43m=\u001b[39;49m\u001b[38;5;241;43m1\u001b[39;49m\u001b[43m)\u001b[49m\n\u001b[1;32m      4\u001b[0m freqs \u001b[38;5;241m=\u001b[39m coh\u001b[38;5;241m.\u001b[39mfreqs\n\u001b[1;32m      6\u001b[0m \u001b[38;5;28mprint\u001b[39m(\u001b[38;5;124m'\u001b[39m\u001b[38;5;124mFrequencies in Hz over which coherence was averaged for 50 Hz: \u001b[39m\u001b[38;5;124m'\u001b[39m)\n",
      "File \u001b[0;32m~/.conda/envs/pitch-tracking/lib/python3.10/site-packages/mne_connectivity/spectral/epochs.py:1046\u001b[0m, in \u001b[0;36mspectral_connectivity_epochs\u001b[0;34m(data, names, method, indices, sfreq, mode, fmin, fmax, fskip, faverage, tmin, tmax, mt_bandwidth, mt_adaptive, mt_low_bias, cwt_freqs, cwt_n_cycles, block_size, n_jobs, verbose)\u001b[0m\n\u001b[1;32m   1043\u001b[0m         logger\u001b[38;5;241m.\u001b[39minfo(\u001b[38;5;124m'\u001b[39m\u001b[38;5;124m    computing connectivity for epoch \u001b[39m\u001b[38;5;132;01m%d\u001b[39;00m\u001b[38;5;124m'\u001b[39m\n\u001b[1;32m   1044\u001b[0m                     \u001b[38;5;241m%\u001b[39m (epoch_idx \u001b[38;5;241m+\u001b[39m \u001b[38;5;241m1\u001b[39m))\n\u001b[1;32m   1045\u001b[0m         \u001b[38;5;66;03m# con methods and psd are updated inplace\u001b[39;00m\n\u001b[0;32m-> 1046\u001b[0m         \u001b[43m_epoch_spectral_connectivity\u001b[49m\u001b[43m(\u001b[49m\u001b[43mdata\u001b[49m\u001b[38;5;241;43m=\u001b[39;49m\u001b[43mthis_epoch\u001b[49m\u001b[43m,\u001b[49m\u001b[43m \u001b[49m\u001b[38;5;241;43m*\u001b[39;49m\u001b[38;5;241;43m*\u001b[39;49m\u001b[43mcall_params\u001b[49m\u001b[43m)\u001b[49m\n\u001b[1;32m   1047\u001b[0m         epoch_idx \u001b[38;5;241m+\u001b[39m\u001b[38;5;241m=\u001b[39m \u001b[38;5;241m1\u001b[39m\n\u001b[1;32m   1048\u001b[0m \u001b[38;5;28;01melse\u001b[39;00m:\n\u001b[1;32m   1049\u001b[0m     \u001b[38;5;66;03m# process epochs in parallel\u001b[39;00m\n",
      "File \u001b[0;32m~/.conda/envs/pitch-tracking/lib/python3.10/site-packages/mne_connectivity/spectral/epochs.py:532\u001b[0m, in \u001b[0;36m_epoch_spectral_connectivity\u001b[0;34m(data, sig_idx, tmin_idx, tmax_idx, sfreq, mode, window_fun, eigvals, wavelets, freq_mask, mt_adaptive, idx_map, block_size, psd, accumulate_psd, con_method_types, con_methods, n_signals, n_times, accumulate_inplace)\u001b[0m\n\u001b[1;32m    527\u001b[0m     this_x_t \u001b[38;5;241m=\u001b[39m this_data\u001b[38;5;241m.\u001b[39mtransform_data(\n\u001b[1;32m    528\u001b[0m         _mt_spectra_partial, idx\u001b[38;5;241m=\u001b[39msig_idx, tmin_idx\u001b[38;5;241m=\u001b[39mtmin_idx,\n\u001b[1;32m    529\u001b[0m         tmax_idx\u001b[38;5;241m=\u001b[39mtmax_idx)\n\u001b[1;32m    530\u001b[0m \u001b[38;5;28;01melse\u001b[39;00m:\n\u001b[1;32m    531\u001b[0m     this_x_t, _ \u001b[38;5;241m=\u001b[39m _mt_spectra(\n\u001b[0;32m--> 532\u001b[0m         \u001b[43mthis_data\u001b[49m\u001b[43m[\u001b[49m\u001b[43msig_idx\u001b[49m\u001b[43m,\u001b[49m\u001b[43m \u001b[49m\u001b[43mtmin_idx\u001b[49m\u001b[43m:\u001b[49m\u001b[43mtmax_idx\u001b[49m\u001b[43m]\u001b[49m,\n\u001b[1;32m    533\u001b[0m         window_fun, sfreq)\n\u001b[1;32m    535\u001b[0m \u001b[38;5;28;01mif\u001b[39;00m mt_adaptive:\n\u001b[1;32m    536\u001b[0m     \u001b[38;5;66;03m# compute PSD and adaptive weights\u001b[39;00m\n\u001b[1;32m    537\u001b[0m     _this_psd, weights \u001b[38;5;241m=\u001b[39m _psd_from_mt_adaptive(\n\u001b[1;32m    538\u001b[0m         this_x_t, eigvals, freq_mask, return_weights\u001b[38;5;241m=\u001b[39m\u001b[38;5;28;01mTrue\u001b[39;00m)\n",
      "\u001b[0;31mIndexError\u001b[0m: index 67 is out of bounds for axis 0 with size 67"
     ]
    }
   ],
   "source": [
    "coh = spectral_connectivity_epochs(\n",
    "    data, method='coh', mode='fourier', indices=indices,\n",
    "    sfreq=FS, fmin=fmin, fmax=fmax, faverage=True, n_jobs=1)\n",
    "freqs = coh.freqs\n",
    "\n",
    "print('Frequencies in Hz over which coherence was averaged for 50 Hz: ')\n",
    "print(freqs[0])\n",
    "print('Frequencies in Hz over which coherence was averaged for 100 Hz: ')\n",
    "print(freqs[1])\n",
    "print('Frequencies in Hz over which coherence was averaged for 150 Hz: ')\n",
    "print(freqs[2])\n",
    "print('Frequencies in Hz over which coherence was averaged for 200 Hz: ')\n",
    "print(freqs[3])\n",
    "print('Frequencies in Hz over which coherence was averaged for 250 Hz: ')\n",
    "print(freqs[4])"
   ]
  },
  {
   "cell_type": "code",
   "execution_count": null,
   "metadata": {},
   "outputs": [],
   "source": []
  },
  {
   "cell_type": "code",
   "execution_count": null,
   "metadata": {},
   "outputs": [],
   "source": []
  },
  {
   "cell_type": "code",
   "execution_count": null,
   "metadata": {},
   "outputs": [],
   "source": []
  },
  {
   "cell_type": "code",
   "execution_count": null,
   "metadata": {},
   "outputs": [],
   "source": []
  },
  {
   "cell_type": "code",
   "execution_count": 9,
   "metadata": {},
   "outputs": [
    {
     "name": "stdout",
     "output_type": "stream",
     "text": [
      "Automatically created module for IPython interactive environment\n"
     ]
    }
   ],
   "source": [
    "\n",
    "import numpy as np\n",
    "\n",
    "import mne\n",
    "from mne.datasets import sample\n",
    "from mne.minimum_norm import (apply_inverse, apply_inverse_epochs,\n",
    "                              read_inverse_operator)\n",
    "from mne_connectivity import seed_target_indices, spectral_connectivity_epochs\n",
    "\n",
    "print(__doc__)"
   ]
  },
  {
   "cell_type": "code",
   "execution_count": 10,
   "metadata": {},
   "outputs": [
    {
     "name": "stdout",
     "output_type": "stream",
     "text": [
      "Using default location ~/mne_data for sample...\n",
      "Creating ~/mne_data\n"
     ]
    },
    {
     "name": "stderr",
     "output_type": "stream",
     "text": [
      "Downloading file 'MNE-sample-data-processed.tar.gz' from 'https://osf.io/86qa2/download?version=6' to '/home/letitiayhho/mne_data'.\n",
      "100%|█████████████████████████████████████| 1.65G/1.65G [00:00<00:00, 1.26TB/s]\n",
      "Untarring contents of '/home/letitiayhho/mne_data/MNE-sample-data-processed.tar.gz' to '/home/letitiayhho/mne_data'\n"
     ]
    },
    {
     "name": "stdout",
     "output_type": "stream",
     "text": [
      "Attempting to create new mne-python configuration file:\n",
      "/home/letitiayhho/.mne/mne-python.json\n",
      "Reading inverse operator decomposition from /home/letitiayhho/mne_data/MNE-sample-data/MEG/sample/sample_audvis-meg-oct-6-meg-inv.fif...\n",
      "    Reading inverse operator info...\n",
      "    [done]\n",
      "    Reading inverse operator decomposition...\n",
      "    [done]\n",
      "    305 x 305 full covariance (kind = 1) found.\n",
      "    Read a total of 4 projection items:\n",
      "        PCA-v1 (1 x 102) active\n",
      "        PCA-v2 (1 x 102) active\n",
      "        PCA-v3 (1 x 102) active\n",
      "        Average EEG reference (1 x 60) active\n",
      "    Noise covariance matrix read.\n",
      "    22494 x 22494 diagonal covariance (kind = 2) found.\n",
      "    Source covariance matrix read.\n",
      "    22494 x 22494 diagonal covariance (kind = 6) found.\n",
      "    Orientation priors read.\n",
      "    22494 x 22494 diagonal covariance (kind = 5) found.\n",
      "    Depth priors read.\n",
      "    Did not find the desired covariance matrix (kind = 3)\n",
      "    Reading a source space...\n",
      "    Computing patch statistics...\n",
      "    Patch information added...\n",
      "    Distance information added...\n",
      "    [done]\n",
      "    Reading a source space...\n",
      "    Computing patch statistics...\n",
      "    Patch information added...\n",
      "    Distance information added...\n",
      "    [done]\n",
      "    2 source spaces read\n",
      "    Read a total of 4 projection items:\n",
      "        PCA-v1 (1 x 102) active\n",
      "        PCA-v2 (1 x 102) active\n",
      "        PCA-v3 (1 x 102) active\n",
      "        Average EEG reference (1 x 60) active\n",
      "    Source spaces transformed to the inverse solution coordinate frame\n",
      "Opening raw data file /home/letitiayhho/mne_data/MNE-sample-data//MEG/sample/sample_audvis_filt-0-40_raw.fif...\n",
      "    Read a total of 4 projection items:\n",
      "        PCA-v1 (1 x 102)  idle\n",
      "        PCA-v2 (1 x 102)  idle\n",
      "        PCA-v3 (1 x 102)  idle\n",
      "        Average EEG reference (1 x 60)  idle\n",
      "    Range : 6450 ... 48149 =     42.956 ...   320.665 secs\n",
      "Ready.\n"
     ]
    },
    {
     "name": "stderr",
     "output_type": "stream",
     "text": [
      "/tmp/ipykernel_45564/13216504.py:2: DeprecationWarning: data_path functions now return pathlib.Path objects which do not natively support the plus (+) operator, switch to using forward slash (/) instead. Support for plus will be removed in 1.2.\n",
      "  subjects_dir = data_path + '/subjects'\n",
      "/tmp/ipykernel_45564/13216504.py:3: DeprecationWarning: data_path functions now return pathlib.Path objects which do not natively support the plus (+) operator, switch to using forward slash (/) instead. Support for plus will be removed in 1.2.\n",
      "  fname_inv = data_path + '/MEG/sample/sample_audvis-meg-oct-6-meg-inv.fif'\n",
      "/tmp/ipykernel_45564/13216504.py:4: DeprecationWarning: data_path functions now return pathlib.Path objects which do not natively support the plus (+) operator, switch to using forward slash (/) instead. Support for plus will be removed in 1.2.\n",
      "  fname_raw = data_path + '/MEG/sample/sample_audvis_filt-0-40_raw.fif'\n",
      "/tmp/ipykernel_45564/13216504.py:5: DeprecationWarning: data_path functions now return pathlib.Path objects which do not natively support the plus (+) operator, switch to using forward slash (/) instead. Support for plus will be removed in 1.2.\n",
      "  fname_event = data_path + '/MEG/sample/sample_audvis_filt-0-40_raw-eve.fif'\n",
      "/tmp/ipykernel_45564/13216504.py:7: DeprecationWarning: data_path functions now return pathlib.Path objects which do not natively support the plus (+) operator, switch to using forward slash (/) instead. Support for plus will be removed in 1.2.\n",
      "  fname_label_lh = data_path + '/MEG/sample/labels/%s.label' % label_name_lh\n"
     ]
    },
    {
     "name": "stdout",
     "output_type": "stream",
     "text": [
      "Not setting metadata\n",
      "72 matching events found\n",
      "Setting baseline interval to [-0.19979521315838786, 0.0] sec\n",
      "Applying baseline correction (mode: mean)\n",
      "Created an SSP operator (subspace dimension = 3)\n",
      "4 projection items activated\n"
     ]
    }
   ],
   "source": [
    "data_path = sample.data_path()\n",
    "subjects_dir = data_path + '/subjects'\n",
    "fname_inv = data_path + '/MEG/sample/sample_audvis-meg-oct-6-meg-inv.fif'\n",
    "fname_raw = data_path + '/MEG/sample/sample_audvis_filt-0-40_raw.fif'\n",
    "fname_event = data_path + '/MEG/sample/sample_audvis_filt-0-40_raw-eve.fif'\n",
    "label_name_lh = 'Aud-lh'\n",
    "fname_label_lh = data_path + '/MEG/sample/labels/%s.label' % label_name_lh\n",
    "\n",
    "event_id, tmin, tmax = 1, -0.2, 0.5\n",
    "method = \"dSPM\"  # use dSPM method (could also be MNE or sLORETA)\n",
    "\n",
    "# Load data.\n",
    "inverse_operator = read_inverse_operator(fname_inv)\n",
    "label_lh = mne.read_label(fname_label_lh)\n",
    "raw = mne.io.read_raw_fif(fname_raw)\n",
    "events = mne.read_events(fname_event)\n",
    "\n",
    "# Add a bad channel.\n",
    "raw.info['bads'] += ['MEG 2443']\n",
    "\n",
    "# pick MEG channels.\n",
    "picks = mne.pick_types(raw.info, meg=True, eeg=False, stim=False, eog=True,\n",
    "                       exclude='bads')\n",
    "\n",
    "# Read epochs.\n",
    "epochs = mne.Epochs(raw, events, event_id, tmin, tmax, picks=picks,\n",
    "                    baseline=(None, 0),\n",
    "                    reject=dict(mag=4e-12, grad=4000e-13, eog=150e-6))"
   ]
  },
  {
   "cell_type": "code",
   "execution_count": 11,
   "metadata": {},
   "outputs": [
    {
     "name": "stdout",
     "output_type": "stream",
     "text": [
      "    Rejecting  epoch based on EOG : ['EOG 061']\n",
      "    Rejecting  epoch based on EOG : ['EOG 061']\n",
      "    Rejecting  epoch based on EOG : ['EOG 061']\n",
      "    Rejecting  epoch based on EOG : ['EOG 061']\n",
      "    Rejecting  epoch based on EOG : ['EOG 061']\n",
      "    Rejecting  epoch based on MAG : ['MEG 1711']\n",
      "    Rejecting  epoch based on EOG : ['EOG 061']\n",
      "    Rejecting  epoch based on EOG : ['EOG 061']\n",
      "    Rejecting  epoch based on EOG : ['EOG 061']\n",
      "    Rejecting  epoch based on EOG : ['EOG 061']\n",
      "    Rejecting  epoch based on EOG : ['EOG 061']\n",
      "    Rejecting  epoch based on EOG : ['EOG 061']\n",
      "    Rejecting  epoch based on EOG : ['EOG 061']\n",
      "    Rejecting  epoch based on EOG : ['EOG 061']\n",
      "    Rejecting  epoch based on EOG : ['EOG 061']\n",
      "    Rejecting  epoch based on EOG : ['EOG 061']\n",
      "    Rejecting  epoch based on EOG : ['EOG 061']\n",
      "Removing projector <Projection | Average EEG reference, active : True, n_channels : 60>\n",
      "Preparing the inverse operator for use...\n",
      "    Scaled noise and source covariance from nave = 1 to nave = 55\n",
      "    Created the regularized inverter\n",
      "    Created an SSP operator (subspace dimension = 3)\n",
      "    Created the whitener using a noise covariance matrix with rank 302 (3 small eigenvalues omitted)\n",
      "    Computing noise-normalization factors (dSPM)...\n",
      "[done]\n",
      "Applying inverse operator to \"1\"...\n",
      "    Picked 305 channels from the data\n",
      "    Computing inverse...\n",
      "    Eigenleads need to be weighted ...\n",
      "    Computing residual...\n",
      "    Explained  59.3% variance\n",
      "    dSPM...\n",
      "[done]\n",
      "(array([1702, 1702, 1702, ..., 1702, 1702, 1702]), array([   0,    1,    2, ..., 7495, 7496, 7497]))\n"
     ]
    }
   ],
   "source": [
    "snr = 3.0\n",
    "lambda2 = 1.0 / snr ** 2\n",
    "evoked = epochs.average()\n",
    "stc = apply_inverse(evoked, inverse_operator, lambda2, method,\n",
    "                    pick_ori=\"normal\")\n",
    "\n",
    "# Restrict the source estimate to the label in the left auditory cortex.\n",
    "stc_label = stc.in_label(label_lh)\n",
    "\n",
    "# Find number and index of vertex with most power.\n",
    "src_pow = np.sum(stc_label.data ** 2, axis=1)\n",
    "seed_vertno = stc_label.vertices[0][np.argmax(src_pow)]\n",
    "seed_idx = np.searchsorted(stc.vertices[0], seed_vertno)  # index in orig stc\n",
    "\n",
    "# Generate index parameter for seed-based connectivity analysis.\n",
    "n_sources = stc.data.shape[0]\n",
    "indices = seed_target_indices([seed_idx], np.arange(n_sources))\n",
    "\n",
    "print(indices)"
   ]
  },
  {
   "cell_type": "code",
   "execution_count": 12,
   "metadata": {},
   "outputs": [
    {
     "name": "stdout",
     "output_type": "stream",
     "text": [
      "(array([1702, 1702, 1702, ..., 1702, 1702, 1702]), array([   0,    1,    2, ..., 7495, 7496, 7497]))\n"
     ]
    }
   ],
   "source": [
    "print(indices)"
   ]
  },
  {
   "cell_type": "code",
   "execution_count": 15,
   "metadata": {},
   "outputs": [
    {
     "data": {
      "text/plain": [
       "numpy.ndarray"
      ]
     },
     "execution_count": 15,
     "metadata": {},
     "output_type": "execute_result"
    }
   ],
   "source": [
    "type(indices[0])"
   ]
  },
  {
   "cell_type": "code",
   "execution_count": 28,
   "metadata": {},
   "outputs": [
    {
     "data": {
      "text/plain": [
       "array([ 0,  1,  2,  3,  4,  5,  6,  7,  8,  9, 10, 11, 12, 13, 14, 15, 16,\n",
       "       17, 18, 19, 20, 21, 22, 23, 24, 25, 26, 27, 28, 29, 30, 31, 32, 33,\n",
       "       34, 35, 36, 37, 38, 39, 40, 41, 42, 43, 44, 45, 46, 47, 48, 49, 50,\n",
       "       51, 52, 53, 54, 55, 56, 57, 58, 59, 60, 61])"
      ]
     },
     "execution_count": 28,
     "metadata": {},
     "output_type": "execute_result"
    }
   ],
   "source": [
    "# so, pairs of channels to compute against... so 62 channels * 5 freqs\n",
    "# first array contains the stim channels\n",
    "# np.array([])\n",
    "mne.pick_types(epochs.info, eeg = True)"
   ]
  },
  {
   "cell_type": "code",
   "execution_count": 22,
   "metadata": {},
   "outputs": [
    {
     "data": {
      "text/html": [
       "<table class=\"table table-hover table-striped table-sm table-responsive small\">\n",
       "    <tr>\n",
       "        <th>Measurement date</th>\n",
       "        \n",
       "        <td>December 31, 1924  15:45:53 GMT</td>\n",
       "        \n",
       "    </tr>\n",
       "    <tr>\n",
       "        <th>Experimenter</th>\n",
       "        \n",
       "        <td>mne_anonymize</td>\n",
       "        \n",
       "    </tr>\n",
       "        <th>Participant</th>\n",
       "        \n",
       "            \n",
       "            <td>sub-9</td>\n",
       "            \n",
       "        \n",
       "    </tr>\n",
       "    <tr>\n",
       "        <th>Digitized points</th>\n",
       "        \n",
       "        <td>0 points</td>\n",
       "        \n",
       "    </tr>\n",
       "    <tr>\n",
       "        <th>Good channels</th>\n",
       "        <td>62 EEG</td>\n",
       "    </tr>\n",
       "    <tr>\n",
       "        <th>Bad channels</th>\n",
       "        <td>None</td>\n",
       "    </tr>\n",
       "    <tr>\n",
       "        <th>EOG channels</th>\n",
       "        <td>Not available</td>\n",
       "    </tr>\n",
       "    <tr>\n",
       "        <th>ECG channels</th>\n",
       "        <td>Not available</td>\n",
       "    \n",
       "    <tr>\n",
       "        <th>Sampling frequency</th>\n",
       "        <td>5000.00 Hz</td>\n",
       "    </tr>\n",
       "    \n",
       "    \n",
       "    <tr>\n",
       "        <th>Highpass</th>\n",
       "        <td>30.00 Hz</td>\n",
       "    </tr>\n",
       "    \n",
       "    \n",
       "    <tr>\n",
       "        <th>Lowpass</th>\n",
       "        <td>270.00 Hz</td>\n",
       "    </tr>\n",
       "    \n",
       "    \n",
       "</table>"
      ],
      "text/plain": [
       "<Info | 15 non-empty values\n",
       " bads: []\n",
       " ch_names: Fp1, Fz, F3, F7, FT9, FC5, FC1, C3, T7, TP9, CP5, CP1, Pz, P3, ...\n",
       " chs: 62 EEG\n",
       " custom_ref_applied: True\n",
       " description: Anonymized using a time shift to preserve age at acquisition\n",
       " dig: 62 items (62 EEG)\n",
       " experimenter: mne_anonymize\n",
       " file_id: 4 items (dict)\n",
       " highpass: 30.0 Hz\n",
       " line_freq: 60.0\n",
       " lowpass: 270.0 Hz\n",
       " meas_date: 1924-12-31 15:45:53 UTC\n",
       " meas_id: 4 items (dict)\n",
       " nchan: 62\n",
       " projs: []\n",
       " sfreq: 5000.0 Hz\n",
       " subject_info: 3 items (dict)\n",
       ">"
      ]
     },
     "execution_count": 22,
     "metadata": {},
     "output_type": "execute_result"
    }
   ],
   "source": [
    "epochs.info"
   ]
  },
  {
   "cell_type": "code",
   "execution_count": 23,
   "metadata": {},
   "outputs": [
    {
     "data": {
      "text/html": [
       "<table class=\"table table-hover table-striped table-sm table-responsive small\">\n",
       "    <tr>\n",
       "        <th>Measurement date</th>\n",
       "        \n",
       "        <td>Unknown</td>\n",
       "        \n",
       "    </tr>\n",
       "    <tr>\n",
       "        <th>Experimenter</th>\n",
       "        \n",
       "        <td>mne_anonymize</td>\n",
       "        \n",
       "    </tr>\n",
       "        <th>Participant</th>\n",
       "        \n",
       "        <td>Unknown</td>\n",
       "        \n",
       "    </tr>\n",
       "    <tr>\n",
       "        <th>Digitized points</th>\n",
       "        \n",
       "        <td>0 points</td>\n",
       "        \n",
       "    </tr>\n",
       "    <tr>\n",
       "        <th>Good channels</th>\n",
       "        <td>5 Stimulus</td>\n",
       "    </tr>\n",
       "    <tr>\n",
       "        <th>Bad channels</th>\n",
       "        <td>None</td>\n",
       "    </tr>\n",
       "    <tr>\n",
       "        <th>EOG channels</th>\n",
       "        <td>Not available</td>\n",
       "    </tr>\n",
       "    <tr>\n",
       "        <th>ECG channels</th>\n",
       "        <td>Not available</td>\n",
       "    \n",
       "    <tr>\n",
       "        <th>Sampling frequency</th>\n",
       "        <td>5000.00 Hz</td>\n",
       "    </tr>\n",
       "    \n",
       "    \n",
       "    <tr>\n",
       "        <th>Highpass</th>\n",
       "        <td>30.00 Hz</td>\n",
       "    </tr>\n",
       "    \n",
       "    \n",
       "    <tr>\n",
       "        <th>Lowpass</th>\n",
       "        <td>270.00 Hz</td>\n",
       "    </tr>\n",
       "    \n",
       "    \n",
       "</table>"
      ],
      "text/plain": [
       "<Info | 11 non-empty values\n",
       " bads: []\n",
       " ch_names: 50haz, 100hz, 150hz, 200hz, 250hz\n",
       " chs: 5 Stimulus\n",
       " custom_ref_applied: True\n",
       " description: Anonymized using a time shift to preserve age at acquisition\n",
       " experimenter: mne_anonymize\n",
       " highpass: 30.0 Hz\n",
       " line_freq: 60.0\n",
       " lowpass: 270.0 Hz\n",
       " meas_date: unspecified\n",
       " nchan: 5\n",
       " projs: []\n",
       " sfreq: 5000.0 Hz\n",
       ">"
      ]
     },
     "execution_count": 23,
     "metadata": {},
     "output_type": "execute_result"
    }
   ],
   "source": [
    "simulated_epochs.info"
   ]
  },
  {
   "cell_type": "code",
   "execution_count": 27,
   "metadata": {},
   "outputs": [
    {
     "data": {
      "text/plain": [
       "array([0, 1, 2, 3, 4])"
      ]
     },
     "execution_count": 27,
     "metadata": {},
     "output_type": "execute_result"
    }
   ],
   "source": [
    "mne.pick_types(simulated_epochs.info, stim = True)"
   ]
  },
  {
   "cell_type": "code",
   "execution_count": 29,
   "metadata": {},
   "outputs": [
    {
     "data": {
      "text/plain": [
       "array([ 0,  1,  2,  3,  4,  5,  6,  7,  8,  9, 10, 11, 12, 13, 14, 15, 16,\n",
       "       17, 18, 19, 20, 21, 22, 23, 24, 25, 26, 27, 28, 29, 30, 31, 32, 33,\n",
       "       34, 35, 36, 37, 38, 39, 40, 41, 42, 43, 44, 45, 46, 47, 48, 49, 50,\n",
       "       51, 52, 53, 54, 55, 56, 57, 58, 59, 60, 61, 62, 63, 64, 65, 66])"
      ]
     },
     "execution_count": 29,
     "metadata": {},
     "output_type": "execute_result"
    }
   ],
   "source": [
    "mne.pick_types(combined_epochs.info, stim = True, eeg = True)"
   ]
  },
  {
   "cell_type": "code",
   "execution_count": null,
   "metadata": {},
   "outputs": [],
   "source": []
  }
 ],
 "metadata": {
  "kernelspec": {
   "display_name": "Python 3 (ipykernel)",
   "language": "python",
   "name": "python3"
  },
  "language_info": {
   "codemirror_mode": {
    "name": "ipython",
    "version": 3
   },
   "file_extension": ".py",
   "mimetype": "text/x-python",
   "name": "python",
   "nbconvert_exporter": "python",
   "pygments_lexer": "ipython3",
   "version": "3.10.4"
  }
 },
 "nbformat": 4,
 "nbformat_minor": 4
}
