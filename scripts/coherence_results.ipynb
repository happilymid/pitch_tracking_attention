{
 "cells": [
  {
   "cell_type": "code",
   "execution_count": 71,
   "id": "45696cad",
   "metadata": {},
   "outputs": [],
   "source": [
    "import glob\n",
    "import os\n",
    "import pandas as pd\n",
    "import numpy as np\n",
    "import matplotlib.pyplot as plt\n",
    "import seaborn as sns\n",
    "from scipy.stats import f_oneway"
   ]
  },
  {
   "cell_type": "markdown",
   "id": "58a6b079",
   "metadata": {},
   "source": [
    "## Coherence"
   ]
  },
  {
   "cell_type": "code",
   "execution_count": 4,
   "id": "499e69c4",
   "metadata": {},
   "outputs": [],
   "source": [
    "# Read coherence files and append all to data frame\n",
    "path = \"../data/bids/derivatives/coherence/*_coh*\"\n",
    "coh = pd.DataFrame()\n",
    "for fpath in glob.glob(path):\n",
    "    data = pd.read_pickle(fpath)\n",
    "    coh = pd.concat([coh, data])\n",
    "coh = coh.set_index('index')"
   ]
  },
  {
   "cell_type": "code",
   "execution_count": 52,
   "id": "686ab5f5",
   "metadata": {},
   "outputs": [
    {
     "data": {
      "text/html": [
       "<div>\n",
       "<style scoped>\n",
       "    .dataframe tbody tr th:only-of-type {\n",
       "        vertical-align: middle;\n",
       "    }\n",
       "\n",
       "    .dataframe tbody tr th {\n",
       "        vertical-align: top;\n",
       "    }\n",
       "\n",
       "    .dataframe thead th {\n",
       "        text-align: right;\n",
       "    }\n",
       "</style>\n",
       "<table border=\"1\" class=\"dataframe\">\n",
       "  <thead>\n",
       "    <tr style=\"text-align: right;\">\n",
       "      <th></th>\n",
       "      <th>50</th>\n",
       "      <th>100</th>\n",
       "      <th>150</th>\n",
       "      <th>200</th>\n",
       "      <th>250</th>\n",
       "    </tr>\n",
       "  </thead>\n",
       "  <tbody>\n",
       "    <tr>\n",
       "      <th>1</th>\n",
       "      <td>0.055834</td>\n",
       "      <td>0.011759</td>\n",
       "      <td>0.006816</td>\n",
       "      <td>0.006306</td>\n",
       "      <td>0.006689</td>\n",
       "    </tr>\n",
       "    <tr>\n",
       "      <th>2</th>\n",
       "      <td>0.007709</td>\n",
       "      <td>0.035285</td>\n",
       "      <td>0.006582</td>\n",
       "      <td>0.010301</td>\n",
       "      <td>0.007443</td>\n",
       "    </tr>\n",
       "    <tr>\n",
       "      <th>3</th>\n",
       "      <td>0.009289</td>\n",
       "      <td>0.006388</td>\n",
       "      <td>0.057085</td>\n",
       "      <td>0.007558</td>\n",
       "      <td>0.008829</td>\n",
       "    </tr>\n",
       "    <tr>\n",
       "      <th>4</th>\n",
       "      <td>0.008027</td>\n",
       "      <td>0.007433</td>\n",
       "      <td>0.007517</td>\n",
       "      <td>0.056421</td>\n",
       "      <td>0.007606</td>\n",
       "    </tr>\n",
       "    <tr>\n",
       "      <th>5</th>\n",
       "      <td>0.009400</td>\n",
       "      <td>0.006904</td>\n",
       "      <td>0.007766</td>\n",
       "      <td>0.006842</td>\n",
       "      <td>0.072307</td>\n",
       "    </tr>\n",
       "  </tbody>\n",
       "</table>\n",
       "</div>"
      ],
      "text/plain": [
       "         50       100       150       200       250\n",
       "1  0.055834  0.011759  0.006816  0.006306  0.006689\n",
       "2  0.007709  0.035285  0.006582  0.010301  0.007443\n",
       "3  0.009289  0.006388  0.057085  0.007558  0.008829\n",
       "4  0.008027  0.007433  0.007517  0.056421  0.007606\n",
       "5  0.009400  0.006904  0.007766  0.006842  0.072307"
      ]
     },
     "execution_count": 52,
     "metadata": {},
     "output_type": "execute_result"
    }
   ],
   "source": [
    "# Average across channels\n",
    "coh_chan_avg = coh.groupby(['sub', 'cond']).mean()\n",
    "coh_chan_avg = coh_chan_avg.drop(columns = ['chan'])\n",
    "coh_chan_avg = coh_chan_avg.reset_index()\n",
    "\n",
    "# Average across subjects for barplot\n",
    "coh_sub_avgs = coh_chan_avg.groupby(['cond']).mean()\n",
    "indexes = pd.Series([2, 3, 4, 5, 1])\n",
    "coh_sub_avgs = coh_sub_avgs.set_index(indexes)\n",
    "coh_sub_avgs = coh_sub_avgs.sort_index(ascending=True)\n",
    "coh_sub_avgs\n",
    "\n",
    "# Calculate standard deviation\n",
    "stds = coh_chan_avg.groupby(['cond']).std()\n",
    "stds = stds.set_index(indexes)\n",
    "stds = stds.sort_index(ascending=True)\n",
    "stds"
   ]
  },
  {
   "cell_type": "code",
   "execution_count": 53,
   "id": "9fa275fe",
   "metadata": {},
   "outputs": [
    {
     "data": {
      "image/png": "[encoded data removed]",
      "text/plain": [
       "<Figure size 432x288 with 1 Axes>"
      ]
     },
     "metadata": {
      "needs_background": "light"
     },
     "output_type": "display_data"
    }
   ],
   "source": [
    "# Plot grouped bar chart\n",
    "fig, ax = plt.subplots()\n",
    "labels = ['50', '100', '150', '200', '250']\n",
    "\n",
    "x = np.arange(len(labels))\n",
    "width = 0.15\n",
    "\n",
    "rect1 = ax.bar(x - width*2, coh_sub_avgs['50'], yerr = stds['50'], width = width, label = '50')\n",
    "rect2 = ax.bar(x - width*1, coh_sub_avgs['100'], yerr = stds['100'], width = width, label = '100')\n",
    "rect3 = ax.bar(x + width*0, coh_sub_avgs['150'], yerr = stds['150'], width = width, label = '150')\n",
    "rect4 = ax.bar(x + width*1, coh_sub_avgs['200'], yerr = stds['200'], width = width, label = '200')\n",
    "rect5 = ax.bar(x + width*2, coh_sub_avgs['250'], yerr = stds['250'], width = width, label = '250')\n",
    "\n",
    "# Add some labels\n",
    "ax.set_ylabel('coh')\n",
    "ax.set_title('coh by condition')\n",
    "ax.set_xticks(x, labels)\n",
    "ax.legend()\n",
    "\n",
    "fig.tight_layout()\n",
    "\n",
    "plt.show()"
   ]
  },
  {
   "cell_type": "markdown",
   "id": "6a6c8d23",
   "metadata": {},
   "source": [
    "#### Boxplots with seaborn"
   ]
  },
  {
   "cell_type": "code",
   "execution_count": 58,
   "id": "a7c1ecb8",
   "metadata": {},
   "outputs": [
    {
     "data": {
      "image/png": "[encoded data removed]",
      "text/plain": [
       "<Figure size 432x288 with 1 Axes>"
      ]
     },
     "metadata": {
      "needs_background": "light"
     },
     "output_type": "display_data"
    }
   ],
   "source": [
    "# Pivot into tidy\n",
    "coh_tidy = coh_chan_avg\n",
    "coh_tidy[\"cond\"] = pd.to_numeric(coh_tidy[\"cond\"])\n",
    "coh_tidy = pd.melt(coh_tidy, \n",
    "                     id_vars = ['sub', 'cond'], \n",
    "                     value_vars=['50', '100', '150', '200', '250'],\n",
    "                     var_name = 'power_at_freq',\n",
    "                     value_name = 'coh')\n",
    "\n",
    "ax = sns.boxplot(x = \"cond\", \n",
    "                 y = \"coh\", \n",
    "                 hue = \"power_at_freq\", \n",
    "                 data = coh_tidy)"
   ]
  },
  {
   "cell_type": "markdown",
   "id": "459a83cf",
   "metadata": {},
   "source": [
    "#### ANOVA"
   ]
  },
  {
   "cell_type": "code",
   "execution_count": 77,
   "id": "a35f3372",
   "metadata": {},
   "outputs": [
    {
     "name": "stdout",
     "output_type": "stream",
     "text": [
      "ANOVA for coherence differences at 50 Hz:, f = 56.82105232982657, p = 1.1801429912925306e-30\n",
      "ANOVA for coherence differences at 50 Hz:, f = 43.58815334704043, p = 2.4001318027702416e-25\n",
      "ANOVA for coherence differences at 50 Hz:, f = 62.189316154123055, p = 1.2945491970191154e-32\n",
      "ANOVA for coherence differences at 50 Hz:, f = 74.74830050280522, p = 7.681828393732256e-37\n",
      "ANOVA for coherence differences at 50 Hz:, f = 87.32805871154292, p = 1.1877459714203103e-40\n"
     ]
    }
   ],
   "source": [
    "# Subset by condition\n",
    "coh_50 = coh_chan_avg[coh_chan_avg['cond'] == 50]\n",
    "coh_100 = coh_chan_avg[coh_chan_avg['cond'] == 100]\n",
    "coh_150 = coh_chan_avg[coh_chan_avg['cond'] == 150]\n",
    "coh_200 = coh_chan_avg[coh_chan_avg['cond'] == 200]\n",
    "coh_250 = coh_chan_avg[coh_chan_avg['cond'] == 250]\n",
    "\n",
    "# Compute ANOVA by condition\n",
    "f_50, p_50 = f_oneway(coh_50['50'], coh_50['100'], coh_50['150'], coh_50['200'], coh_50['250'])\n",
    "f_100, p_100 = f_oneway(coh_100['50'], coh_100['100'], coh_100['150'], coh_100['200'], coh_100['250'])\n",
    "f_150, p_150 = f_oneway(coh_150['50'], coh_150['100'], coh_150['150'], coh_150['200'], coh_150['250'])\n",
    "f_200, p_200 = f_oneway(coh_200['50'], coh_200['100'], coh_200['150'], coh_200['200'], coh_200['250'])\n",
    "f_250, p_250 = f_oneway(coh_250['50'], coh_250['100'], coh_250['150'], coh_250['200'], coh_250['250'])\n",
    "\n",
    "# Print p-values\n",
    "print(f\"ANOVA for coherence differences at 50 Hz:, f = {f_50}, p = {p_50}\")\n",
    "print(f\"ANOVA for coherence differences at 50 Hz:, f = {f_100}, p = {p_100}\")\n",
    "print(f\"ANOVA for coherence differences at 50 Hz:, f = {f_150}, p = {p_150}\")\n",
    "print(f\"ANOVA for coherence differences at 50 Hz:, f = {f_200}, p = {p_200}\")\n",
    "print(f\"ANOVA for coherence differences at 50 Hz:, f = {f_250}, p = {p_250}\")"
   ]
  },
  {
   "cell_type": "markdown",
   "id": "3c54f52e",
   "metadata": {},
   "source": [
    "## Imaginary coherence"
   ]
  },
  {
   "cell_type": "code",
   "execution_count": 7,
   "id": "de9dda8c",
   "metadata": {},
   "outputs": [],
   "source": [
    "# Read coherence files and append all to data frame\n",
    "path = \"../data/bids/derivatives/coherence/*_imcoh*\"\n",
    "imcoh = pd.DataFrame()\n",
    "for fpath in glob.glob(path):\n",
    "    data = pd.read_pickle(fpath)\n",
    "    imcoh = pd.concat([imcoh, data])\n",
    "imcoh = imcoh.set_index('index')"
   ]
  },
  {
   "cell_type": "code",
   "execution_count": 54,
   "id": "c7b9ab7c",
   "metadata": {},
   "outputs": [
    {
     "name": "stdout",
     "output_type": "stream",
     "text": [
      "         50       100       150       200       250\n",
      "1 -0.004374  0.002392 -0.001099  0.000495  0.000169\n",
      "2 -0.000181  0.000594  0.000149 -0.002716  0.000024\n",
      "3 -0.001095  0.000290 -0.008304  0.000719  0.000368\n",
      "4  0.000605 -0.000197 -0.000640  0.006587 -0.000726\n",
      "5 -0.000487 -0.000122  0.000937  0.000139  0.015271\n",
      "         50       100       150       200       250\n",
      "1  0.009582  0.004873  0.002500  0.003044  0.002411\n",
      "2  0.002744  0.011853  0.002326  0.005925  0.002108\n",
      "3  0.003581  0.002445  0.021045  0.002132  0.001866\n",
      "4  0.003013  0.002481  0.003994  0.020538  0.001873\n",
      "5  0.004066  0.002999  0.003032  0.002349  0.027109\n"
     ]
    }
   ],
   "source": [
    "# Average across channels\n",
    "imcoh_chan_avg = imcoh.groupby(['sub', 'cond']).mean()\n",
    "imcoh_chan_avg = imcoh_chan_avg.drop(columns = ['chan'])\n",
    "imcoh_chan_avg = imcoh_chan_avg.reset_index()\n",
    "\n",
    "# Average across subjects for barplot\n",
    "imcoh_sub_avgs = imcoh_chan_avg.groupby(['cond']).mean()\n",
    "indexes = pd.Series([2, 3, 4, 5, 1])\n",
    "imcoh_sub_avgs = imcoh_sub_avgs.set_index(indexes)\n",
    "imcoh_sub_avgs = imcoh_sub_avgs.sort_index(ascending=True)\n",
    "print(imcoh_sub_avgs)\n",
    "\n",
    "# Calculate standard deviation\n",
    "stds = imcoh_chan_avg.groupby(['cond']).std()\n",
    "stds = stds.set_index(indexes)\n",
    "stds = stds.sort_index(ascending=True)\n",
    "print(stds)"
   ]
  },
  {
   "cell_type": "code",
   "execution_count": 55,
   "id": "69ea973b",
   "metadata": {},
   "outputs": [
    {
     "data": {
      "image/png": "[encoded data removed]",
      "text/plain": [
       "<Figure size 432x288 with 1 Axes>"
      ]
     },
     "metadata": {
      "needs_background": "light"
     },
     "output_type": "display_data"
    }
   ],
   "source": [
    "# Plot grouped bar chart\n",
    "fig, ax = plt.subplots()\n",
    "labels = ['50', '100', '150', '200', '250']\n",
    "\n",
    "x = np.arange(len(labels))\n",
    "width = 0.15\n",
    "\n",
    "rect1 = ax.bar(x - width*2, imcoh_sub_avgs['50'], yerr = stds['50'], width = width, label = '50')\n",
    "rect2 = ax.bar(x - width*1, imcoh_sub_avgs['100'], yerr = stds['100'], width = width, label = '100')\n",
    "rect3 = ax.bar(x + width*0, imcoh_sub_avgs['150'], yerr = stds['150'], width = width, label = '150')\n",
    "rect4 = ax.bar(x + width*1, imcoh_sub_avgs['200'], yerr = stds['200'], width = width, label = '200')\n",
    "rect5 = ax.bar(x + width*2, imcoh_sub_avgs['250'], yerr = stds['250'], width = width, label = '250')\n",
    "\n",
    "# Add some labels\n",
    "ax.set_ylabel('imcoh')\n",
    "ax.set_title('imcoh by condition')\n",
    "ax.set_xticks(x, labels)\n",
    "ax.legend()\n",
    "\n",
    "fig.tight_layout()\n",
    "\n",
    "plt.show()"
   ]
  },
  {
   "cell_type": "markdown",
   "id": "dbb39c0d",
   "metadata": {},
   "source": [
    "#### Boxplots with seaborn"
   ]
  },
  {
   "cell_type": "code",
   "execution_count": 59,
   "id": "e5eb2124",
   "metadata": {},
   "outputs": [
    {
     "data": {
      "image/png": "[encoded data removed]",
      "text/plain": [
       "<Figure size 432x288 with 1 Axes>"
      ]
     },
     "metadata": {
      "needs_background": "light"
     },
     "output_type": "display_data"
    }
   ],
   "source": [
    "# Pivot into tidy\n",
    "imcoh_tidy = imcoh_chan_avg\n",
    "imcoh_tidy[\"cond\"] = pd.to_numeric(imcoh_tidy[\"cond\"])\n",
    "imcoh_tidy = pd.melt(imcoh_tidy, \n",
    "                     id_vars = ['sub', 'cond'], \n",
    "                     value_vars=['50', '100', '150', '200', '250'],\n",
    "                     var_name = 'power_at_freq',\n",
    "                     value_name = 'coh')\n",
    "\n",
    "ax = sns.boxplot(x = \"cond\", \n",
    "                 y = \"coh\", \n",
    "                 hue = \"power_at_freq\", \n",
    "                 data = imcoh_tidy)"
   ]
  },
  {
   "cell_type": "markdown",
   "id": "9655980b",
   "metadata": {},
   "source": [
    "#### ANOVA"
   ]
  },
  {
   "cell_type": "code",
   "execution_count": 78,
   "id": "bb0f51d8",
   "metadata": {},
   "outputs": [
    {
     "name": "stdout",
     "output_type": "stream",
     "text": [
      "ANOVA for imcoherence differences at 50 Hz:, f = 7.814765288261827, p = 8.598597379602848e-06\n",
      "ANOVA for imcoherence differences at 50 Hz:, f = 1.5145746919604068, p = 0.20022856717644102\n",
      "ANOVA for imcoherence differences at 50 Hz:, f = 5.250353347780638, p = 0.0005257841774650472\n",
      "ANOVA for imcoherence differences at 50 Hz:, f = 3.574541231295115, p = 0.007980476690198857\n",
      "ANOVA for imcoherence differences at 50 Hz:, f = 10.133815919506208, p = 2.3259834064588623e-07\n"
     ]
    }
   ],
   "source": [
    "# Subset by condition\n",
    "imcoh_50 = imcoh_chan_avg[imcoh_chan_avg['cond'] == 50]\n",
    "imcoh_100 = imcoh_chan_avg[imcoh_chan_avg['cond'] == 100]\n",
    "imcoh_150 = imcoh_chan_avg[imcoh_chan_avg['cond'] == 150]\n",
    "imcoh_200 = imcoh_chan_avg[imcoh_chan_avg['cond'] == 200]\n",
    "imcoh_250 = imcoh_chan_avg[imcoh_chan_avg['cond'] == 250]\n",
    "\n",
    "# Compute ANOVA by condition\n",
    "f_50, p_50 = f_oneway(imcoh_50['50'], imcoh_50['100'], imcoh_50['150'], imcoh_50['200'], imcoh_50['250'])\n",
    "f_100, p_100 = f_oneway(imcoh_100['50'], imcoh_100['100'], imcoh_100['150'], imcoh_100['200'], imcoh_100['250'])\n",
    "f_150, p_150 = f_oneway(imcoh_150['50'], imcoh_150['100'], imcoh_150['150'], imcoh_150['200'], imcoh_150['250'])\n",
    "f_200, p_200 = f_oneway(imcoh_200['50'], imcoh_200['100'], imcoh_200['150'], imcoh_200['200'], imcoh_200['250'])\n",
    "f_250, p_250 = f_oneway(imcoh_250['50'], imcoh_250['100'], imcoh_250['150'], imcoh_250['200'], imcoh_250['250'])\n",
    "\n",
    "# Print p-values\n",
    "print(f\"ANOVA for imcoherence differences at 50 Hz:, f = {f_50}, p = {p_50}\")\n",
    "print(f\"ANOVA for imcoherence differences at 50 Hz:, f = {f_100}, p = {p_100}\")\n",
    "print(f\"ANOVA for imcoherence differences at 50 Hz:, f = {f_150}, p = {p_150}\")\n",
    "print(f\"ANOVA for imcoherence differences at 50 Hz:, f = {f_200}, p = {p_200}\")\n",
    "print(f\"ANOVA for imcoherence differences at 50 Hz:, f = {f_250}, p = {p_250}\")"
   ]
  }
 ],
 "metadata": {
  "kernelspec": {
   "display_name": "Python 3 (ipykernel)",
   "language": "python",
   "name": "python3"
  },
  "language_info": {
   "codemirror_mode": {
    "name": "ipython",
    "version": 3
   },
   "file_extension": ".py",
   "mimetype": "text/x-python",
   "name": "python",
   "nbconvert_exporter": "python",
   "pygments_lexer": "ipython3",
   "version": "3.10.4"
  }
 },
 "nbformat": 4,
 "nbformat_minor": 5
}
